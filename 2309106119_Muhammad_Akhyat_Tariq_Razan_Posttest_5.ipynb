{
  "nbformat": 4,
  "nbformat_minor": 0,
  "metadata": {
    "colab": {
      "provenance": [],
      "gpuType": "T4",
      "authorship_tag": "ABX9TyOD9aFYWHzS1s2vj1xCzRdw"
    },
    "kernelspec": {
      "name": "python3",
      "display_name": "Python 3"
    },
    "language_info": {
      "name": "python"
    },
    "accelerator": "GPU"
  },
  "cells": [
    {
      "cell_type": "markdown",
      "source": [
        "- NIM  : 2309106119\n",
        "- Nama : Muhammad Akhyat Tariq Razan"
      ],
      "metadata": {
        "id": "R-27g89ILju_"
      }
    },
    {
      "cell_type": "code",
      "source": [
        "import pandas as pd\n",
        "import numpy as np\n",
        "from sklearn.model_selection import train_test_split\n",
        "from sklearn.preprocessing import LabelEncoder, StandardScaler\n",
        "from tensorflow.keras.models import Sequential\n",
        "from tensorflow.keras.layers import Dense, Dropout\n",
        "from tensorflow.keras.utils import to_categorical\n",
        "from sklearn.metrics import accuracy_score, classification_report"
      ],
      "metadata": {
        "id": "18FbhvtxE8px"
      },
      "execution_count": null,
      "outputs": []
    },
    {
      "cell_type": "markdown",
      "source": [
        "## 1. Load Dataset\n",
        "- Membaca dan memproses dataset\n"
      ],
      "metadata": {
        "id": "dxV9KfiCEuxU"
      }
    },
    {
      "cell_type": "code",
      "source": [
        "df = pd.read_csv('online_gaming_behavior_dataset.csv')\n",
        "\n",
        "# Tentukan kolom target\n",
        "target_col = 'EngagementLevel'\n",
        "\n",
        "# Pisahkan fitur dan target\n",
        "X = df.drop(columns=[target_col])\n",
        "y = df[target_col]"
      ],
      "metadata": {
        "id": "yKk6vMgIE7VT"
      },
      "execution_count": null,
      "outputs": []
    },
    {
      "cell_type": "markdown",
      "source": [
        "## 2. Encode kolom kategorikal\n",
        "- Menentukan kolom target: `EngagementLevel`\n",
        "- Melakukan One-Hot Encoding untuk fitur kategorikal\n",
        "\n"
      ],
      "metadata": {
        "id": "4TyOzHYQFBoa"
      }
    },
    {
      "cell_type": "code",
      "source": [
        "# Pilih kolom kategorikal\n",
        "categorical_cols = X.select_dtypes(include=['object']).columns\n",
        "\n",
        "# Ubah kategori menjadi numerik (One-hot encoding)\n",
        "X = pd.get_dummies(X, columns=categorical_cols, drop_first=True)\n",
        "\n",
        "# Encode target\n",
        "le = LabelEncoder()\n",
        "y_encoded = le.fit_transform(y)\n",
        "y_categorical = to_categorical(y_encoded)"
      ],
      "metadata": {
        "id": "zl5-Ly8TFDqJ"
      },
      "execution_count": null,
      "outputs": []
    },
    {
      "cell_type": "markdown",
      "source": [
        "## 3. Normalisasi fitur numerik\n",
        "- Melakukan normalisasi data dengan `StandardScaler`\n"
      ],
      "metadata": {
        "id": "lvHiDZLuFpF5"
      }
    },
    {
      "cell_type": "code",
      "source": [
        "scaler = StandardScaler()\n",
        "X_scaled = scaler.fit_transform(X)"
      ],
      "metadata": {
        "id": "GczKhS9PFqdp"
      },
      "execution_count": null,
      "outputs": []
    },
    {
      "cell_type": "markdown",
      "source": [
        "## 4. Split Data\n",
        "- 80% data untuk training dan 20% untuk validation  \n",
        "- Menggunakan `train_test_split` dengan `stratify` agar kelas seimbang"
      ],
      "metadata": {
        "id": "rTjfN0q1HZhk"
      }
    },
    {
      "cell_type": "code",
      "source": [
        "X_train, X_val, y_train, y_val = train_test_split(\n",
        "    X_scaled, y_categorical, test_size=0.2, random_state=42, stratify=y_categorical\n",
        ")"
      ],
      "metadata": {
        "id": "PAmjbZ_PHeR5"
      },
      "execution_count": null,
      "outputs": []
    },
    {
      "cell_type": "markdown",
      "source": [
        "## 5. Build Model (Sequential)\n",
        "- Input layer sesuai jumlah fitur  \n",
        "- Hidden layers: 128 neuron dan 64 neuron (aktivasi ReLU)  \n",
        "- Dropout (0.3) untuk mencegah overfitting  \n",
        "- Output layer: `Softmax` sesuai jumlah kelas"
      ],
      "metadata": {
        "id": "-bkW8Cc-Hkqd"
      }
    },
    {
      "cell_type": "code",
      "source": [
        "model = Sequential([\n",
        "    Dense(128, activation='relu', input_shape=(X_train.shape[1],)),\n",
        "    Dropout(0.3),\n",
        "    Dense(64, activation='relu'),\n",
        "    Dropout(0.3),\n",
        "    Dense(y_categorical.shape[1], activation='softmax')\n",
        "])\n",
        "\n",
        "model.compile(\n",
        "    optimizer='adam',\n",
        "    loss='categorical_crossentropy',\n",
        "    metrics=['accuracy']\n",
        ")\n",
        "\n",
        "model.summary()"
      ],
      "metadata": {
        "colab": {
          "base_uri": "https://localhost:8080/",
          "height": 361
        },
        "id": "58irh7t0HnEQ",
        "outputId": "72fcd26e-e457-4a97-8078-a9cdfed630d6"
      },
      "execution_count": null,
      "outputs": [
        {
          "output_type": "stream",
          "name": "stderr",
          "text": [
            "/usr/local/lib/python3.12/dist-packages/keras/src/layers/core/dense.py:93: UserWarning: Do not pass an `input_shape`/`input_dim` argument to a layer. When using Sequential models, prefer using an `Input(shape)` object as the first layer in the model instead.\n",
            "  super().__init__(activity_regularizer=activity_regularizer, **kwargs)\n"
          ]
        },
        {
          "output_type": "display_data",
          "data": {
            "text/plain": [
              "\u001b[1mModel: \"sequential_3\"\u001b[0m\n"
            ],
            "text/html": [
              "<pre style=\"white-space:pre;overflow-x:auto;line-height:normal;font-family:Menlo,'DejaVu Sans Mono',consolas,'Courier New',monospace\"><span style=\"font-weight: bold\">Model: \"sequential_3\"</span>\n",
              "</pre>\n"
            ]
          },
          "metadata": {}
        },
        {
          "output_type": "display_data",
          "data": {
            "text/plain": [
              "┏━━━━━━━━━━━━━━━━━━━━━━━━━━━━━━━━━┳━━━━━━━━━━━━━━━━━━━━━━━━┳━━━━━━━━━━━━━━━┓\n",
              "┃\u001b[1m \u001b[0m\u001b[1mLayer (type)                   \u001b[0m\u001b[1m \u001b[0m┃\u001b[1m \u001b[0m\u001b[1mOutput Shape          \u001b[0m\u001b[1m \u001b[0m┃\u001b[1m \u001b[0m\u001b[1m      Param #\u001b[0m\u001b[1m \u001b[0m┃\n",
              "┡━━━━━━━━━━━━━━━━━━━━━━━━━━━━━━━━━╇━━━━━━━━━━━━━━━━━━━━━━━━╇━━━━━━━━━━━━━━━┩\n",
              "│ dense_9 (\u001b[38;5;33mDense\u001b[0m)                 │ (\u001b[38;5;45mNone\u001b[0m, \u001b[38;5;34m128\u001b[0m)            │         \u001b[38;5;34m2,432\u001b[0m │\n",
              "├─────────────────────────────────┼────────────────────────┼───────────────┤\n",
              "│ dropout_6 (\u001b[38;5;33mDropout\u001b[0m)             │ (\u001b[38;5;45mNone\u001b[0m, \u001b[38;5;34m128\u001b[0m)            │             \u001b[38;5;34m0\u001b[0m │\n",
              "├─────────────────────────────────┼────────────────────────┼───────────────┤\n",
              "│ dense_10 (\u001b[38;5;33mDense\u001b[0m)                │ (\u001b[38;5;45mNone\u001b[0m, \u001b[38;5;34m64\u001b[0m)             │         \u001b[38;5;34m8,256\u001b[0m │\n",
              "├─────────────────────────────────┼────────────────────────┼───────────────┤\n",
              "│ dropout_7 (\u001b[38;5;33mDropout\u001b[0m)             │ (\u001b[38;5;45mNone\u001b[0m, \u001b[38;5;34m64\u001b[0m)             │             \u001b[38;5;34m0\u001b[0m │\n",
              "├─────────────────────────────────┼────────────────────────┼───────────────┤\n",
              "│ dense_11 (\u001b[38;5;33mDense\u001b[0m)                │ (\u001b[38;5;45mNone\u001b[0m, \u001b[38;5;34m3\u001b[0m)              │           \u001b[38;5;34m195\u001b[0m │\n",
              "└─────────────────────────────────┴────────────────────────┴───────────────┘\n"
            ],
            "text/html": [
              "<pre style=\"white-space:pre;overflow-x:auto;line-height:normal;font-family:Menlo,'DejaVu Sans Mono',consolas,'Courier New',monospace\">┏━━━━━━━━━━━━━━━━━━━━━━━━━━━━━━━━━┳━━━━━━━━━━━━━━━━━━━━━━━━┳━━━━━━━━━━━━━━━┓\n",
              "┃<span style=\"font-weight: bold\"> Layer (type)                    </span>┃<span style=\"font-weight: bold\"> Output Shape           </span>┃<span style=\"font-weight: bold\">       Param # </span>┃\n",
              "┡━━━━━━━━━━━━━━━━━━━━━━━━━━━━━━━━━╇━━━━━━━━━━━━━━━━━━━━━━━━╇━━━━━━━━━━━━━━━┩\n",
              "│ dense_9 (<span style=\"color: #0087ff; text-decoration-color: #0087ff\">Dense</span>)                 │ (<span style=\"color: #00d7ff; text-decoration-color: #00d7ff\">None</span>, <span style=\"color: #00af00; text-decoration-color: #00af00\">128</span>)            │         <span style=\"color: #00af00; text-decoration-color: #00af00\">2,432</span> │\n",
              "├─────────────────────────────────┼────────────────────────┼───────────────┤\n",
              "│ dropout_6 (<span style=\"color: #0087ff; text-decoration-color: #0087ff\">Dropout</span>)             │ (<span style=\"color: #00d7ff; text-decoration-color: #00d7ff\">None</span>, <span style=\"color: #00af00; text-decoration-color: #00af00\">128</span>)            │             <span style=\"color: #00af00; text-decoration-color: #00af00\">0</span> │\n",
              "├─────────────────────────────────┼────────────────────────┼───────────────┤\n",
              "│ dense_10 (<span style=\"color: #0087ff; text-decoration-color: #0087ff\">Dense</span>)                │ (<span style=\"color: #00d7ff; text-decoration-color: #00d7ff\">None</span>, <span style=\"color: #00af00; text-decoration-color: #00af00\">64</span>)             │         <span style=\"color: #00af00; text-decoration-color: #00af00\">8,256</span> │\n",
              "├─────────────────────────────────┼────────────────────────┼───────────────┤\n",
              "│ dropout_7 (<span style=\"color: #0087ff; text-decoration-color: #0087ff\">Dropout</span>)             │ (<span style=\"color: #00d7ff; text-decoration-color: #00d7ff\">None</span>, <span style=\"color: #00af00; text-decoration-color: #00af00\">64</span>)             │             <span style=\"color: #00af00; text-decoration-color: #00af00\">0</span> │\n",
              "├─────────────────────────────────┼────────────────────────┼───────────────┤\n",
              "│ dense_11 (<span style=\"color: #0087ff; text-decoration-color: #0087ff\">Dense</span>)                │ (<span style=\"color: #00d7ff; text-decoration-color: #00d7ff\">None</span>, <span style=\"color: #00af00; text-decoration-color: #00af00\">3</span>)              │           <span style=\"color: #00af00; text-decoration-color: #00af00\">195</span> │\n",
              "└─────────────────────────────────┴────────────────────────┴───────────────┘\n",
              "</pre>\n"
            ]
          },
          "metadata": {}
        },
        {
          "output_type": "display_data",
          "data": {
            "text/plain": [
              "\u001b[1m Total params: \u001b[0m\u001b[38;5;34m10,883\u001b[0m (42.51 KB)\n"
            ],
            "text/html": [
              "<pre style=\"white-space:pre;overflow-x:auto;line-height:normal;font-family:Menlo,'DejaVu Sans Mono',consolas,'Courier New',monospace\"><span style=\"font-weight: bold\"> Total params: </span><span style=\"color: #00af00; text-decoration-color: #00af00\">10,883</span> (42.51 KB)\n",
              "</pre>\n"
            ]
          },
          "metadata": {}
        },
        {
          "output_type": "display_data",
          "data": {
            "text/plain": [
              "\u001b[1m Trainable params: \u001b[0m\u001b[38;5;34m10,883\u001b[0m (42.51 KB)\n"
            ],
            "text/html": [
              "<pre style=\"white-space:pre;overflow-x:auto;line-height:normal;font-family:Menlo,'DejaVu Sans Mono',consolas,'Courier New',monospace\"><span style=\"font-weight: bold\"> Trainable params: </span><span style=\"color: #00af00; text-decoration-color: #00af00\">10,883</span> (42.51 KB)\n",
              "</pre>\n"
            ]
          },
          "metadata": {}
        },
        {
          "output_type": "display_data",
          "data": {
            "text/plain": [
              "\u001b[1m Non-trainable params: \u001b[0m\u001b[38;5;34m0\u001b[0m (0.00 B)\n"
            ],
            "text/html": [
              "<pre style=\"white-space:pre;overflow-x:auto;line-height:normal;font-family:Menlo,'DejaVu Sans Mono',consolas,'Courier New',monospace\"><span style=\"font-weight: bold\"> Non-trainable params: </span><span style=\"color: #00af00; text-decoration-color: #00af00\">0</span> (0.00 B)\n",
              "</pre>\n"
            ]
          },
          "metadata": {}
        }
      ]
    },
    {
      "cell_type": "markdown",
      "source": [
        "## 6. Train Model\n",
        "- Optimizer: `Adam`\n",
        "- Loss function: `Categorical Crossentropy`\n",
        "- Epoch: 50, Batch size: 32"
      ],
      "metadata": {
        "id": "JHE0XNCkHzRy"
      }
    },
    {
      "cell_type": "code",
      "source": [
        "history = model.fit(\n",
        "    X_train, y_train,\n",
        "    validation_data=(X_val, y_val),\n",
        "    epochs=50,\n",
        "    batch_size=32,\n",
        "    verbose=1\n",
        ")"
      ],
      "metadata": {
        "colab": {
          "base_uri": "https://localhost:8080/"
        },
        "id": "Jo5JZYO3H0jD",
        "outputId": "6ffeeceb-a96a-482d-ad98-a6247f0d72e0"
      },
      "execution_count": null,
      "outputs": [
        {
          "output_type": "stream",
          "name": "stdout",
          "text": [
            "Epoch 1/50\n",
            "\u001b[1m1001/1001\u001b[0m \u001b[32m━━━━━━━━━━━━━━━━━━━━\u001b[0m\u001b[37m\u001b[0m \u001b[1m7s\u001b[0m 5ms/step - accuracy: 0.6856 - loss: 0.7461 - val_accuracy: 0.8607 - val_loss: 0.4727\n",
            "Epoch 2/50\n",
            "\u001b[1m1001/1001\u001b[0m \u001b[32m━━━━━━━━━━━━━━━━━━━━\u001b[0m\u001b[37m\u001b[0m \u001b[1m6s\u001b[0m 6ms/step - accuracy: 0.8261 - loss: 0.5131 - val_accuracy: 0.8820 - val_loss: 0.4187\n",
            "Epoch 3/50\n",
            "\u001b[1m1001/1001\u001b[0m \u001b[32m━━━━━━━━━━━━━━━━━━━━\u001b[0m\u001b[37m\u001b[0m \u001b[1m8s\u001b[0m 3ms/step - accuracy: 0.8493 - loss: 0.4675 - val_accuracy: 0.8996 - val_loss: 0.3954\n",
            "Epoch 4/50\n",
            "\u001b[1m1001/1001\u001b[0m \u001b[32m━━━━━━━━━━━━━━━━━━━━\u001b[0m\u001b[37m\u001b[0m \u001b[1m4s\u001b[0m 4ms/step - accuracy: 0.8687 - loss: 0.4376 - val_accuracy: 0.8996 - val_loss: 0.3882\n",
            "Epoch 5/50\n",
            "\u001b[1m1001/1001\u001b[0m \u001b[32m━━━━━━━━━━━━━━━━━━━━\u001b[0m\u001b[37m\u001b[0m \u001b[1m4s\u001b[0m 3ms/step - accuracy: 0.8734 - loss: 0.4276 - val_accuracy: 0.9061 - val_loss: 0.3748\n",
            "Epoch 6/50\n",
            "\u001b[1m1001/1001\u001b[0m \u001b[32m━━━━━━━━━━━━━━━━━━━━\u001b[0m\u001b[37m\u001b[0m \u001b[1m4s\u001b[0m 4ms/step - accuracy: 0.8816 - loss: 0.4102 - val_accuracy: 0.9047 - val_loss: 0.3712\n",
            "Epoch 7/50\n",
            "\u001b[1m1001/1001\u001b[0m \u001b[32m━━━━━━━━━━━━━━━━━━━━\u001b[0m\u001b[37m\u001b[0m \u001b[1m3s\u001b[0m 3ms/step - accuracy: 0.8861 - loss: 0.3973 - val_accuracy: 0.9060 - val_loss: 0.3681\n",
            "Epoch 8/50\n",
            "\u001b[1m1001/1001\u001b[0m \u001b[32m━━━━━━━━━━━━━━━━━━━━\u001b[0m\u001b[37m\u001b[0m \u001b[1m3s\u001b[0m 3ms/step - accuracy: 0.8860 - loss: 0.4052 - val_accuracy: 0.9027 - val_loss: 0.3662\n",
            "Epoch 9/50\n",
            "\u001b[1m1001/1001\u001b[0m \u001b[32m━━━━━━━━━━━━━━━━━━━━\u001b[0m\u001b[37m\u001b[0m \u001b[1m3s\u001b[0m 3ms/step - accuracy: 0.8931 - loss: 0.3789 - val_accuracy: 0.9058 - val_loss: 0.3622\n",
            "Epoch 10/50\n",
            "\u001b[1m1001/1001\u001b[0m \u001b[32m━━━━━━━━━━━━━━━━━━━━\u001b[0m\u001b[37m\u001b[0m \u001b[1m3s\u001b[0m 3ms/step - accuracy: 0.8938 - loss: 0.3799 - val_accuracy: 0.9065 - val_loss: 0.3614\n",
            "Epoch 11/50\n",
            "\u001b[1m1001/1001\u001b[0m \u001b[32m━━━━━━━━━━━━━━━━━━━━\u001b[0m\u001b[37m\u001b[0m \u001b[1m5s\u001b[0m 3ms/step - accuracy: 0.8928 - loss: 0.3825 - val_accuracy: 0.9120 - val_loss: 0.3536\n",
            "Epoch 12/50\n",
            "\u001b[1m1001/1001\u001b[0m \u001b[32m━━━━━━━━━━━━━━━━━━━━\u001b[0m\u001b[37m\u001b[0m \u001b[1m3s\u001b[0m 3ms/step - accuracy: 0.8955 - loss: 0.3758 - val_accuracy: 0.9060 - val_loss: 0.3604\n",
            "Epoch 13/50\n",
            "\u001b[1m1001/1001\u001b[0m \u001b[32m━━━━━━━━━━━━━━━━━━━━\u001b[0m\u001b[37m\u001b[0m \u001b[1m3s\u001b[0m 3ms/step - accuracy: 0.8950 - loss: 0.3782 - val_accuracy: 0.9122 - val_loss: 0.3493\n",
            "Epoch 14/50\n",
            "\u001b[1m1001/1001\u001b[0m \u001b[32m━━━━━━━━━━━━━━━━━━━━\u001b[0m\u001b[37m\u001b[0m \u001b[1m3s\u001b[0m 3ms/step - accuracy: 0.8940 - loss: 0.3845 - val_accuracy: 0.9068 - val_loss: 0.3537\n",
            "Epoch 15/50\n",
            "\u001b[1m1001/1001\u001b[0m \u001b[32m━━━━━━━━━━━━━━━━━━━━\u001b[0m\u001b[37m\u001b[0m \u001b[1m3s\u001b[0m 3ms/step - accuracy: 0.8979 - loss: 0.3704 - val_accuracy: 0.9120 - val_loss: 0.3498\n",
            "Epoch 16/50\n",
            "\u001b[1m1001/1001\u001b[0m \u001b[32m━━━━━━━━━━━━━━━━━━━━\u001b[0m\u001b[37m\u001b[0m \u001b[1m3s\u001b[0m 3ms/step - accuracy: 0.9013 - loss: 0.3629 - val_accuracy: 0.9075 - val_loss: 0.3519\n",
            "Epoch 17/50\n",
            "\u001b[1m1001/1001\u001b[0m \u001b[32m━━━━━━━━━━━━━━━━━━━━\u001b[0m\u001b[37m\u001b[0m \u001b[1m3s\u001b[0m 3ms/step - accuracy: 0.9017 - loss: 0.3584 - val_accuracy: 0.9116 - val_loss: 0.3500\n",
            "Epoch 18/50\n",
            "\u001b[1m1001/1001\u001b[0m \u001b[32m━━━━━━━━━━━━━━━━━━━━\u001b[0m\u001b[37m\u001b[0m \u001b[1m3s\u001b[0m 3ms/step - accuracy: 0.9003 - loss: 0.3643 - val_accuracy: 0.9115 - val_loss: 0.3507\n",
            "Epoch 19/50\n",
            "\u001b[1m1001/1001\u001b[0m \u001b[32m━━━━━━━━━━━━━━━━━━━━\u001b[0m\u001b[37m\u001b[0m \u001b[1m3s\u001b[0m 3ms/step - accuracy: 0.9013 - loss: 0.3610 - val_accuracy: 0.9156 - val_loss: 0.3436\n",
            "Epoch 20/50\n",
            "\u001b[1m1001/1001\u001b[0m \u001b[32m━━━━━━━━━━━━━━━━━━━━\u001b[0m\u001b[37m\u001b[0m \u001b[1m3s\u001b[0m 3ms/step - accuracy: 0.9016 - loss: 0.3589 - val_accuracy: 0.9100 - val_loss: 0.3465\n",
            "Epoch 21/50\n",
            "\u001b[1m1001/1001\u001b[0m \u001b[32m━━━━━━━━━━━━━━━━━━━━\u001b[0m\u001b[37m\u001b[0m \u001b[1m3s\u001b[0m 3ms/step - accuracy: 0.9010 - loss: 0.3644 - val_accuracy: 0.9122 - val_loss: 0.3451\n",
            "Epoch 22/50\n",
            "\u001b[1m1001/1001\u001b[0m \u001b[32m━━━━━━━━━━━━━━━━━━━━\u001b[0m\u001b[37m\u001b[0m \u001b[1m3s\u001b[0m 3ms/step - accuracy: 0.9030 - loss: 0.3606 - val_accuracy: 0.9082 - val_loss: 0.3481\n",
            "Epoch 23/50\n",
            "\u001b[1m1001/1001\u001b[0m \u001b[32m━━━━━━━━━━━━━━━━━━━━\u001b[0m\u001b[37m\u001b[0m \u001b[1m3s\u001b[0m 3ms/step - accuracy: 0.9025 - loss: 0.3584 - val_accuracy: 0.9111 - val_loss: 0.3481\n",
            "Epoch 24/50\n",
            "\u001b[1m1001/1001\u001b[0m \u001b[32m━━━━━━━━━━━━━━━━━━━━\u001b[0m\u001b[37m\u001b[0m \u001b[1m3s\u001b[0m 3ms/step - accuracy: 0.9010 - loss: 0.3553 - val_accuracy: 0.9095 - val_loss: 0.3566\n",
            "Epoch 25/50\n",
            "\u001b[1m1001/1001\u001b[0m \u001b[32m━━━━━━━━━━━━━━━━━━━━\u001b[0m\u001b[37m\u001b[0m \u001b[1m3s\u001b[0m 3ms/step - accuracy: 0.9039 - loss: 0.3530 - val_accuracy: 0.9111 - val_loss: 0.3414\n",
            "Epoch 26/50\n",
            "\u001b[1m1001/1001\u001b[0m \u001b[32m━━━━━━━━━━━━━━━━━━━━\u001b[0m\u001b[37m\u001b[0m \u001b[1m3s\u001b[0m 3ms/step - accuracy: 0.9069 - loss: 0.3427 - val_accuracy: 0.9100 - val_loss: 0.3447\n",
            "Epoch 27/50\n",
            "\u001b[1m1001/1001\u001b[0m \u001b[32m━━━━━━━━━━━━━━━━━━━━\u001b[0m\u001b[37m\u001b[0m \u001b[1m3s\u001b[0m 3ms/step - accuracy: 0.9032 - loss: 0.3569 - val_accuracy: 0.9115 - val_loss: 0.3409\n",
            "Epoch 28/50\n",
            "\u001b[1m1001/1001\u001b[0m \u001b[32m━━━━━━━━━━━━━━━━━━━━\u001b[0m\u001b[37m\u001b[0m \u001b[1m3s\u001b[0m 3ms/step - accuracy: 0.9062 - loss: 0.3463 - val_accuracy: 0.9098 - val_loss: 0.3444\n",
            "Epoch 29/50\n",
            "\u001b[1m1001/1001\u001b[0m \u001b[32m━━━━━━━━━━━━━━━━━━━━\u001b[0m\u001b[37m\u001b[0m \u001b[1m3s\u001b[0m 3ms/step - accuracy: 0.9046 - loss: 0.3552 - val_accuracy: 0.9092 - val_loss: 0.3463\n",
            "Epoch 30/50\n",
            "\u001b[1m1001/1001\u001b[0m \u001b[32m━━━━━━━━━━━━━━━━━━━━\u001b[0m\u001b[37m\u001b[0m \u001b[1m3s\u001b[0m 3ms/step - accuracy: 0.9045 - loss: 0.3516 - val_accuracy: 0.9120 - val_loss: 0.3438\n",
            "Epoch 31/50\n",
            "\u001b[1m1001/1001\u001b[0m \u001b[32m━━━━━━━━━━━━━━━━━━━━\u001b[0m\u001b[37m\u001b[0m \u001b[1m3s\u001b[0m 3ms/step - accuracy: 0.9074 - loss: 0.3446 - val_accuracy: 0.9097 - val_loss: 0.3441\n",
            "Epoch 32/50\n",
            "\u001b[1m1001/1001\u001b[0m \u001b[32m━━━━━━━━━━━━━━━━━━━━\u001b[0m\u001b[37m\u001b[0m \u001b[1m3s\u001b[0m 3ms/step - accuracy: 0.9048 - loss: 0.3486 - val_accuracy: 0.9131 - val_loss: 0.3405\n",
            "Epoch 33/50\n",
            "\u001b[1m1001/1001\u001b[0m \u001b[32m━━━━━━━━━━━━━━━━━━━━\u001b[0m\u001b[37m\u001b[0m \u001b[1m3s\u001b[0m 3ms/step - accuracy: 0.9067 - loss: 0.3509 - val_accuracy: 0.9122 - val_loss: 0.3418\n",
            "Epoch 34/50\n",
            "\u001b[1m1001/1001\u001b[0m \u001b[32m━━━━━━━━━━━━━━━━━━━━\u001b[0m\u001b[37m\u001b[0m \u001b[1m3s\u001b[0m 3ms/step - accuracy: 0.9053 - loss: 0.3478 - val_accuracy: 0.9144 - val_loss: 0.3371\n",
            "Epoch 35/50\n",
            "\u001b[1m1001/1001\u001b[0m \u001b[32m━━━━━━━━━━━━━━━━━━━━\u001b[0m\u001b[37m\u001b[0m \u001b[1m3s\u001b[0m 3ms/step - accuracy: 0.9055 - loss: 0.3522 - val_accuracy: 0.9127 - val_loss: 0.3396\n",
            "Epoch 36/50\n",
            "\u001b[1m1001/1001\u001b[0m \u001b[32m━━━━━━━━━━━━━━━━━━━━\u001b[0m\u001b[37m\u001b[0m \u001b[1m3s\u001b[0m 3ms/step - accuracy: 0.9069 - loss: 0.3441 - val_accuracy: 0.9117 - val_loss: 0.3431\n",
            "Epoch 37/50\n",
            "\u001b[1m1001/1001\u001b[0m \u001b[32m━━━━━━━━━━━━━━━━━━━━\u001b[0m\u001b[37m\u001b[0m \u001b[1m3s\u001b[0m 3ms/step - accuracy: 0.9101 - loss: 0.3364 - val_accuracy: 0.9107 - val_loss: 0.3438\n",
            "Epoch 38/50\n",
            "\u001b[1m1001/1001\u001b[0m \u001b[32m━━━━━━━━━━━━━━━━━━━━\u001b[0m\u001b[37m\u001b[0m \u001b[1m3s\u001b[0m 3ms/step - accuracy: 0.9062 - loss: 0.3465 - val_accuracy: 0.9143 - val_loss: 0.3385\n",
            "Epoch 39/50\n",
            "\u001b[1m1001/1001\u001b[0m \u001b[32m━━━━━━━━━━━━━━━━━━━━\u001b[0m\u001b[37m\u001b[0m \u001b[1m3s\u001b[0m 3ms/step - accuracy: 0.9120 - loss: 0.3340 - val_accuracy: 0.9112 - val_loss: 0.3438\n",
            "Epoch 40/50\n",
            "\u001b[1m1001/1001\u001b[0m \u001b[32m━━━━━━━━━━━━━━━━━━━━\u001b[0m\u001b[37m\u001b[0m \u001b[1m3s\u001b[0m 3ms/step - accuracy: 0.9092 - loss: 0.3409 - val_accuracy: 0.9137 - val_loss: 0.3458\n",
            "Epoch 41/50\n",
            "\u001b[1m1001/1001\u001b[0m \u001b[32m━━━━━━━━━━━━━━━━━━━━\u001b[0m\u001b[37m\u001b[0m \u001b[1m3s\u001b[0m 3ms/step - accuracy: 0.9065 - loss: 0.3482 - val_accuracy: 0.9057 - val_loss: 0.3475\n",
            "Epoch 42/50\n",
            "\u001b[1m1001/1001\u001b[0m \u001b[32m━━━━━━━━━━━━━━━━━━━━\u001b[0m\u001b[37m\u001b[0m \u001b[1m3s\u001b[0m 3ms/step - accuracy: 0.9096 - loss: 0.3405 - val_accuracy: 0.9100 - val_loss: 0.3426\n",
            "Epoch 43/50\n",
            "\u001b[1m1001/1001\u001b[0m \u001b[32m━━━━━━━━━━━━━━━━━━━━\u001b[0m\u001b[37m\u001b[0m \u001b[1m3s\u001b[0m 3ms/step - accuracy: 0.9072 - loss: 0.3461 - val_accuracy: 0.9100 - val_loss: 0.3461\n",
            "Epoch 44/50\n",
            "\u001b[1m1001/1001\u001b[0m \u001b[32m━━━━━━━━━━━━━━━━━━━━\u001b[0m\u001b[37m\u001b[0m \u001b[1m3s\u001b[0m 3ms/step - accuracy: 0.9095 - loss: 0.3385 - val_accuracy: 0.9117 - val_loss: 0.3401\n",
            "Epoch 45/50\n",
            "\u001b[1m1001/1001\u001b[0m \u001b[32m━━━━━━━━━━━━━━━━━━━━\u001b[0m\u001b[37m\u001b[0m \u001b[1m3s\u001b[0m 3ms/step - accuracy: 0.9090 - loss: 0.3407 - val_accuracy: 0.9118 - val_loss: 0.3417\n",
            "Epoch 46/50\n",
            "\u001b[1m1001/1001\u001b[0m \u001b[32m━━━━━━━━━━━━━━━━━━━━\u001b[0m\u001b[37m\u001b[0m \u001b[1m3s\u001b[0m 3ms/step - accuracy: 0.9062 - loss: 0.3501 - val_accuracy: 0.9123 - val_loss: 0.3405\n",
            "Epoch 47/50\n",
            "\u001b[1m1001/1001\u001b[0m \u001b[32m━━━━━━━━━━━━━━━━━━━━\u001b[0m\u001b[37m\u001b[0m \u001b[1m4s\u001b[0m 3ms/step - accuracy: 0.9055 - loss: 0.3513 - val_accuracy: 0.9142 - val_loss: 0.3403\n",
            "Epoch 48/50\n",
            "\u001b[1m1001/1001\u001b[0m \u001b[32m━━━━━━━━━━━━━━━━━━━━\u001b[0m\u001b[37m\u001b[0m \u001b[1m3s\u001b[0m 3ms/step - accuracy: 0.9069 - loss: 0.3432 - val_accuracy: 0.9123 - val_loss: 0.3379\n",
            "Epoch 49/50\n",
            "\u001b[1m1001/1001\u001b[0m \u001b[32m━━━━━━━━━━━━━━━━━━━━\u001b[0m\u001b[37m\u001b[0m \u001b[1m3s\u001b[0m 3ms/step - accuracy: 0.9106 - loss: 0.3367 - val_accuracy: 0.9118 - val_loss: 0.3378\n",
            "Epoch 50/50\n",
            "\u001b[1m1001/1001\u001b[0m \u001b[32m━━━━━━━━━━━━━━━━━━━━\u001b[0m\u001b[37m\u001b[0m \u001b[1m3s\u001b[0m 3ms/step - accuracy: 0.9088 - loss: 0.3417 - val_accuracy: 0.9131 - val_loss: 0.3419\n"
          ]
        }
      ]
    },
    {
      "cell_type": "markdown",
      "source": [
        "## 7. Evaluasi\n",
        "- Menghitung akurasi training dan validation  \n",
        "- Menampilkan classification report (precision, recall, F1-score)"
      ],
      "metadata": {
        "id": "zyu7fNx1Lc2J"
      }
    },
    {
      "cell_type": "code",
      "source": [
        "train_acc = model.evaluate(X_train, y_train, verbose=0)[1]\n",
        "val_acc = model.evaluate(X_val, y_val, verbose=0)[1]\n",
        "\n",
        "print(f\"\\nAkurasi Training: {train_acc*100:.2f}%\")\n",
        "print(f\"Akurasi Validation: {val_acc*100:.2f}%\")"
      ],
      "metadata": {
        "colab": {
          "base_uri": "https://localhost:8080/"
        },
        "id": "fYkxBdEVLeCr",
        "outputId": "4f8da2d6-598a-49d0-e0bd-24f678234961"
      },
      "execution_count": null,
      "outputs": [
        {
          "output_type": "stream",
          "name": "stdout",
          "text": [
            "\n",
            "Akurasi Training: 91.98%\n",
            "Akurasi Validation: 91.31%\n"
          ]
        }
      ]
    },
    {
      "cell_type": "markdown",
      "source": [
        "## 8. Laporan Klasifikasi\n",
        "### Evaluasi Model\n",
        "\n",
        "Setelah model selesai dilatih, dilakukan proses evaluasi untuk menilai kemampuan model dalam melakukan **klasifikasi** terhadap data validasi.\n",
        "\n",
        "#### Langkah-langkah Evaluasi\n",
        "1. **Prediksi Kelas**\n",
        "   - Model menghasilkan probabilitas untuk setiap kelas melalui `model.predict(X_val)`.\n",
        "   - Fungsi `np.argmax(..., axis=1)` digunakan untuk menentukan kelas dengan probabilitas tertinggi sebagai hasil prediksi (`y_pred`).\n",
        "\n",
        "2. **Menentukan Label Sebenarnya**\n",
        "   - Data label validasi (`y_val`) sebelumnya berbentuk one-hot encoding.  \n",
        "   - Dengan `np.argmax(y_val, axis=1)`, label tersebut dikembalikan ke bentuk numerik (`y_true`) agar dapat dibandingkan dengan hasil prediksi.\n",
        "\n",
        "3. **Menampilkan Laporan Klasifikasi**\n",
        "   - Fungsi `classification_report(y_true, y_pred, target_names=le.classes_)` menampilkan metrik performa model berupa:\n",
        "     - **Precision** → tingkat ketepatan model dalam memprediksi tiap kelas.  \n",
        "     - **Recall** → kemampuan model mendeteksi data sebenarnya dari tiap kelas.  \n",
        "     - **F1-Score** → rata-rata harmonis antara precision dan recall.  \n",
        "     - **Support** → jumlah data pada tiap kelas.\n",
        "\n",
        "###  Kesimpulan\n",
        "Laporan klasifikasi ini memberikan gambaran menyeluruh tentang performa model dalam mengenali kategori pada kolom target **`EngagementLevel`**, sehingga dapat diketahui seberapa baik model melakukan prediksi terhadap perilaku pemain game online."
      ],
      "metadata": {
        "id": "thD84iWQLkA7"
      }
    },
    {
      "cell_type": "code",
      "source": [
        "import numpy as np\n",
        "y_pred = np.argmax(model.predict(X_val), axis=1)\n",
        "y_true = np.argmax(y_val, axis=1)\n",
        "\n",
        "print(\"\\nClassification Report:\")\n",
        "print(classification_report(y_true, y_pred, target_names=le.classes_))"
      ],
      "metadata": {
        "colab": {
          "base_uri": "https://localhost:8080/"
        },
        "id": "ep4qBZoMLnnb",
        "outputId": "04944c9c-c0eb-4792-db59-be8a4342ad3f"
      },
      "execution_count": null,
      "outputs": [
        {
          "output_type": "stream",
          "name": "stdout",
          "text": [
            "\u001b[1m251/251\u001b[0m \u001b[32m━━━━━━━━━━━━━━━━━━━━\u001b[0m\u001b[37m\u001b[0m \u001b[1m1s\u001b[0m 2ms/step\n",
            "\n",
            "Classification Report:\n",
            "              precision    recall  f1-score   support\n",
            "\n",
            "        High       0.92      0.89      0.90      2067\n",
            "         Low       0.90      0.89      0.89      2065\n",
            "      Medium       0.92      0.94      0.93      3875\n",
            "\n",
            "    accuracy                           0.91      8007\n",
            "   macro avg       0.91      0.91      0.91      8007\n",
            "weighted avg       0.91      0.91      0.91      8007\n",
            "\n"
          ]
        }
      ]
    }
  ]
}