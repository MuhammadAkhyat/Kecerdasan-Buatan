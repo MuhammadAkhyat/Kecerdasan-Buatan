{
  "nbformat": 4,
  "nbformat_minor": 0,
  "metadata": {
    "colab": {
      "provenance": [],
      "gpuType": "T4",
      "authorship_tag": "ABX9TyOnxhfasKznubtInBtU68bD"
    },
    "kernelspec": {
      "name": "python3",
      "display_name": "Python 3"
    },
    "language_info": {
      "name": "python"
    },
    "accelerator": "GPU"
  },
  "cells": [
    {
      "cell_type": "markdown",
      "source": [
        "**POSTTEST 4 - Kecerdasan Buatan**\n",
        "\n",
        "- Nama : Muhammad Akhyat Tariq Razan\n",
        "- NIM  : 2309106119\n",
        "\n",
        "## A1. Persiapan Data"
      ],
      "metadata": {
        "id": "_lprh6J1YYFp"
      }
    },
    {
      "cell_type": "code",
      "execution_count": 64,
      "metadata": {
        "id": "3R8lMWinWNcR"
      },
      "outputs": [],
      "source": [
        "import pandas as pd\n",
        "import numpy as np\n",
        "from sklearn.model_selection import train_test_split\n",
        "from sklearn.preprocessing import StandardScaler, OneHotEncoder\n",
        "from sklearn.compose import ColumnTransformer\n",
        "from sklearn.pipeline import Pipeline\n",
        "from sklearn.svm import LinearSVC\n",
        "from sklearn.ensemble import RandomForestClassifier\n",
        "from sklearn.neighbors import KNeighborsClassifier\n",
        "from sklearn.metrics import confusion_matrix, classification_report"
      ]
    },
    {
      "cell_type": "code",
      "source": [
        "df = pd.read_csv(\"online_gaming_behavior_dataset.csv\")\n",
        "df.head()\n",
        "\n",
        "df.info()\n",
        "df.describe()"
      ],
      "metadata": {
        "colab": {
          "base_uri": "https://localhost:8080/",
          "height": 647
        },
        "id": "2XEyg3QzXzgg",
        "outputId": "d181e91d-e2f1-4fbf-d017-1d4454d6c4ea"
      },
      "execution_count": 65,
      "outputs": [
        {
          "output_type": "stream",
          "name": "stdout",
          "text": [
            "<class 'pandas.core.frame.DataFrame'>\n",
            "RangeIndex: 40034 entries, 0 to 40033\n",
            "Data columns (total 13 columns):\n",
            " #   Column                     Non-Null Count  Dtype  \n",
            "---  ------                     --------------  -----  \n",
            " 0   PlayerID                   40034 non-null  int64  \n",
            " 1   Age                        40034 non-null  int64  \n",
            " 2   Gender                     40034 non-null  object \n",
            " 3   Location                   40034 non-null  object \n",
            " 4   GameGenre                  40034 non-null  object \n",
            " 5   PlayTimeHours              40034 non-null  float64\n",
            " 6   InGamePurchases            40034 non-null  int64  \n",
            " 7   GameDifficulty             40034 non-null  object \n",
            " 8   SessionsPerWeek            40034 non-null  int64  \n",
            " 9   AvgSessionDurationMinutes  40034 non-null  int64  \n",
            " 10  PlayerLevel                40034 non-null  int64  \n",
            " 11  AchievementsUnlocked       40034 non-null  int64  \n",
            " 12  EngagementLevel            40034 non-null  object \n",
            "dtypes: float64(1), int64(7), object(5)\n",
            "memory usage: 4.0+ MB\n"
          ]
        },
        {
          "output_type": "execute_result",
          "data": {
            "text/plain": [
              "           PlayerID           Age  PlayTimeHours  InGamePurchases  \\\n",
              "count  40034.000000  40034.000000   40034.000000     40034.000000   \n",
              "mean   29016.500000     31.992531      12.024365         0.200854   \n",
              "std    11556.964675     10.043227       6.914638         0.400644   \n",
              "min     9000.000000     15.000000       0.000115         0.000000   \n",
              "25%    19008.250000     23.000000       6.067501         0.000000   \n",
              "50%    29016.500000     32.000000      12.008002         0.000000   \n",
              "75%    39024.750000     41.000000      17.963831         0.000000   \n",
              "max    49033.000000     49.000000      23.999592         1.000000   \n",
              "\n",
              "       SessionsPerWeek  AvgSessionDurationMinutes   PlayerLevel  \\\n",
              "count     40034.000000               40034.000000  40034.000000   \n",
              "mean          9.471774                  94.792252     49.655568   \n",
              "std           5.763667                  49.011375     28.588379   \n",
              "min           0.000000                  10.000000      1.000000   \n",
              "25%           4.000000                  52.000000     25.000000   \n",
              "50%           9.000000                  95.000000     49.000000   \n",
              "75%          14.000000                 137.000000     74.000000   \n",
              "max          19.000000                 179.000000     99.000000   \n",
              "\n",
              "       AchievementsUnlocked  \n",
              "count          40034.000000  \n",
              "mean              24.526477  \n",
              "std               14.430726  \n",
              "min                0.000000  \n",
              "25%               12.000000  \n",
              "50%               25.000000  \n",
              "75%               37.000000  \n",
              "max               49.000000  "
            ],
            "text/html": [
              "\n",
              "  <div id=\"df-044d4406-f6c5-4e40-9712-29beb9ea18be\" class=\"colab-df-container\">\n",
              "    <div>\n",
              "<style scoped>\n",
              "    .dataframe tbody tr th:only-of-type {\n",
              "        vertical-align: middle;\n",
              "    }\n",
              "\n",
              "    .dataframe tbody tr th {\n",
              "        vertical-align: top;\n",
              "    }\n",
              "\n",
              "    .dataframe thead th {\n",
              "        text-align: right;\n",
              "    }\n",
              "</style>\n",
              "<table border=\"1\" class=\"dataframe\">\n",
              "  <thead>\n",
              "    <tr style=\"text-align: right;\">\n",
              "      <th></th>\n",
              "      <th>PlayerID</th>\n",
              "      <th>Age</th>\n",
              "      <th>PlayTimeHours</th>\n",
              "      <th>InGamePurchases</th>\n",
              "      <th>SessionsPerWeek</th>\n",
              "      <th>AvgSessionDurationMinutes</th>\n",
              "      <th>PlayerLevel</th>\n",
              "      <th>AchievementsUnlocked</th>\n",
              "    </tr>\n",
              "  </thead>\n",
              "  <tbody>\n",
              "    <tr>\n",
              "      <th>count</th>\n",
              "      <td>40034.000000</td>\n",
              "      <td>40034.000000</td>\n",
              "      <td>40034.000000</td>\n",
              "      <td>40034.000000</td>\n",
              "      <td>40034.000000</td>\n",
              "      <td>40034.000000</td>\n",
              "      <td>40034.000000</td>\n",
              "      <td>40034.000000</td>\n",
              "    </tr>\n",
              "    <tr>\n",
              "      <th>mean</th>\n",
              "      <td>29016.500000</td>\n",
              "      <td>31.992531</td>\n",
              "      <td>12.024365</td>\n",
              "      <td>0.200854</td>\n",
              "      <td>9.471774</td>\n",
              "      <td>94.792252</td>\n",
              "      <td>49.655568</td>\n",
              "      <td>24.526477</td>\n",
              "    </tr>\n",
              "    <tr>\n",
              "      <th>std</th>\n",
              "      <td>11556.964675</td>\n",
              "      <td>10.043227</td>\n",
              "      <td>6.914638</td>\n",
              "      <td>0.400644</td>\n",
              "      <td>5.763667</td>\n",
              "      <td>49.011375</td>\n",
              "      <td>28.588379</td>\n",
              "      <td>14.430726</td>\n",
              "    </tr>\n",
              "    <tr>\n",
              "      <th>min</th>\n",
              "      <td>9000.000000</td>\n",
              "      <td>15.000000</td>\n",
              "      <td>0.000115</td>\n",
              "      <td>0.000000</td>\n",
              "      <td>0.000000</td>\n",
              "      <td>10.000000</td>\n",
              "      <td>1.000000</td>\n",
              "      <td>0.000000</td>\n",
              "    </tr>\n",
              "    <tr>\n",
              "      <th>25%</th>\n",
              "      <td>19008.250000</td>\n",
              "      <td>23.000000</td>\n",
              "      <td>6.067501</td>\n",
              "      <td>0.000000</td>\n",
              "      <td>4.000000</td>\n",
              "      <td>52.000000</td>\n",
              "      <td>25.000000</td>\n",
              "      <td>12.000000</td>\n",
              "    </tr>\n",
              "    <tr>\n",
              "      <th>50%</th>\n",
              "      <td>29016.500000</td>\n",
              "      <td>32.000000</td>\n",
              "      <td>12.008002</td>\n",
              "      <td>0.000000</td>\n",
              "      <td>9.000000</td>\n",
              "      <td>95.000000</td>\n",
              "      <td>49.000000</td>\n",
              "      <td>25.000000</td>\n",
              "    </tr>\n",
              "    <tr>\n",
              "      <th>75%</th>\n",
              "      <td>39024.750000</td>\n",
              "      <td>41.000000</td>\n",
              "      <td>17.963831</td>\n",
              "      <td>0.000000</td>\n",
              "      <td>14.000000</td>\n",
              "      <td>137.000000</td>\n",
              "      <td>74.000000</td>\n",
              "      <td>37.000000</td>\n",
              "    </tr>\n",
              "    <tr>\n",
              "      <th>max</th>\n",
              "      <td>49033.000000</td>\n",
              "      <td>49.000000</td>\n",
              "      <td>23.999592</td>\n",
              "      <td>1.000000</td>\n",
              "      <td>19.000000</td>\n",
              "      <td>179.000000</td>\n",
              "      <td>99.000000</td>\n",
              "      <td>49.000000</td>\n",
              "    </tr>\n",
              "  </tbody>\n",
              "</table>\n",
              "</div>\n",
              "    <div class=\"colab-df-buttons\">\n",
              "\n",
              "  <div class=\"colab-df-container\">\n",
              "    <button class=\"colab-df-convert\" onclick=\"convertToInteractive('df-044d4406-f6c5-4e40-9712-29beb9ea18be')\"\n",
              "            title=\"Convert this dataframe to an interactive table.\"\n",
              "            style=\"display:none;\">\n",
              "\n",
              "  <svg xmlns=\"http://www.w3.org/2000/svg\" height=\"24px\" viewBox=\"0 -960 960 960\">\n",
              "    <path d=\"M120-120v-720h720v720H120Zm60-500h600v-160H180v160Zm220 220h160v-160H400v160Zm0 220h160v-160H400v160ZM180-400h160v-160H180v160Zm440 0h160v-160H620v160ZM180-180h160v-160H180v160Zm440 0h160v-160H620v160Z\"/>\n",
              "  </svg>\n",
              "    </button>\n",
              "\n",
              "  <style>\n",
              "    .colab-df-container {\n",
              "      display:flex;\n",
              "      gap: 12px;\n",
              "    }\n",
              "\n",
              "    .colab-df-convert {\n",
              "      background-color: #E8F0FE;\n",
              "      border: none;\n",
              "      border-radius: 50%;\n",
              "      cursor: pointer;\n",
              "      display: none;\n",
              "      fill: #1967D2;\n",
              "      height: 32px;\n",
              "      padding: 0 0 0 0;\n",
              "      width: 32px;\n",
              "    }\n",
              "\n",
              "    .colab-df-convert:hover {\n",
              "      background-color: #E2EBFA;\n",
              "      box-shadow: 0px 1px 2px rgba(60, 64, 67, 0.3), 0px 1px 3px 1px rgba(60, 64, 67, 0.15);\n",
              "      fill: #174EA6;\n",
              "    }\n",
              "\n",
              "    .colab-df-buttons div {\n",
              "      margin-bottom: 4px;\n",
              "    }\n",
              "\n",
              "    [theme=dark] .colab-df-convert {\n",
              "      background-color: #3B4455;\n",
              "      fill: #D2E3FC;\n",
              "    }\n",
              "\n",
              "    [theme=dark] .colab-df-convert:hover {\n",
              "      background-color: #434B5C;\n",
              "      box-shadow: 0px 1px 3px 1px rgba(0, 0, 0, 0.15);\n",
              "      filter: drop-shadow(0px 1px 2px rgba(0, 0, 0, 0.3));\n",
              "      fill: #FFFFFF;\n",
              "    }\n",
              "  </style>\n",
              "\n",
              "    <script>\n",
              "      const buttonEl =\n",
              "        document.querySelector('#df-044d4406-f6c5-4e40-9712-29beb9ea18be button.colab-df-convert');\n",
              "      buttonEl.style.display =\n",
              "        google.colab.kernel.accessAllowed ? 'block' : 'none';\n",
              "\n",
              "      async function convertToInteractive(key) {\n",
              "        const element = document.querySelector('#df-044d4406-f6c5-4e40-9712-29beb9ea18be');\n",
              "        const dataTable =\n",
              "          await google.colab.kernel.invokeFunction('convertToInteractive',\n",
              "                                                    [key], {});\n",
              "        if (!dataTable) return;\n",
              "\n",
              "        const docLinkHtml = 'Like what you see? Visit the ' +\n",
              "          '<a target=\"_blank\" href=https://colab.research.google.com/notebooks/data_table.ipynb>data table notebook</a>'\n",
              "          + ' to learn more about interactive tables.';\n",
              "        element.innerHTML = '';\n",
              "        dataTable['output_type'] = 'display_data';\n",
              "        await google.colab.output.renderOutput(dataTable, element);\n",
              "        const docLink = document.createElement('div');\n",
              "        docLink.innerHTML = docLinkHtml;\n",
              "        element.appendChild(docLink);\n",
              "      }\n",
              "    </script>\n",
              "  </div>\n",
              "\n",
              "\n",
              "    <div id=\"df-24a60dd9-27b2-4c80-8e38-5ac3480f0b4e\">\n",
              "      <button class=\"colab-df-quickchart\" onclick=\"quickchart('df-24a60dd9-27b2-4c80-8e38-5ac3480f0b4e')\"\n",
              "                title=\"Suggest charts\"\n",
              "                style=\"display:none;\">\n",
              "\n",
              "<svg xmlns=\"http://www.w3.org/2000/svg\" height=\"24px\"viewBox=\"0 0 24 24\"\n",
              "     width=\"24px\">\n",
              "    <g>\n",
              "        <path d=\"M19 3H5c-1.1 0-2 .9-2 2v14c0 1.1.9 2 2 2h14c1.1 0 2-.9 2-2V5c0-1.1-.9-2-2-2zM9 17H7v-7h2v7zm4 0h-2V7h2v10zm4 0h-2v-4h2v4z\"/>\n",
              "    </g>\n",
              "</svg>\n",
              "      </button>\n",
              "\n",
              "<style>\n",
              "  .colab-df-quickchart {\n",
              "      --bg-color: #E8F0FE;\n",
              "      --fill-color: #1967D2;\n",
              "      --hover-bg-color: #E2EBFA;\n",
              "      --hover-fill-color: #174EA6;\n",
              "      --disabled-fill-color: #AAA;\n",
              "      --disabled-bg-color: #DDD;\n",
              "  }\n",
              "\n",
              "  [theme=dark] .colab-df-quickchart {\n",
              "      --bg-color: #3B4455;\n",
              "      --fill-color: #D2E3FC;\n",
              "      --hover-bg-color: #434B5C;\n",
              "      --hover-fill-color: #FFFFFF;\n",
              "      --disabled-bg-color: #3B4455;\n",
              "      --disabled-fill-color: #666;\n",
              "  }\n",
              "\n",
              "  .colab-df-quickchart {\n",
              "    background-color: var(--bg-color);\n",
              "    border: none;\n",
              "    border-radius: 50%;\n",
              "    cursor: pointer;\n",
              "    display: none;\n",
              "    fill: var(--fill-color);\n",
              "    height: 32px;\n",
              "    padding: 0;\n",
              "    width: 32px;\n",
              "  }\n",
              "\n",
              "  .colab-df-quickchart:hover {\n",
              "    background-color: var(--hover-bg-color);\n",
              "    box-shadow: 0 1px 2px rgba(60, 64, 67, 0.3), 0 1px 3px 1px rgba(60, 64, 67, 0.15);\n",
              "    fill: var(--button-hover-fill-color);\n",
              "  }\n",
              "\n",
              "  .colab-df-quickchart-complete:disabled,\n",
              "  .colab-df-quickchart-complete:disabled:hover {\n",
              "    background-color: var(--disabled-bg-color);\n",
              "    fill: var(--disabled-fill-color);\n",
              "    box-shadow: none;\n",
              "  }\n",
              "\n",
              "  .colab-df-spinner {\n",
              "    border: 2px solid var(--fill-color);\n",
              "    border-color: transparent;\n",
              "    border-bottom-color: var(--fill-color);\n",
              "    animation:\n",
              "      spin 1s steps(1) infinite;\n",
              "  }\n",
              "\n",
              "  @keyframes spin {\n",
              "    0% {\n",
              "      border-color: transparent;\n",
              "      border-bottom-color: var(--fill-color);\n",
              "      border-left-color: var(--fill-color);\n",
              "    }\n",
              "    20% {\n",
              "      border-color: transparent;\n",
              "      border-left-color: var(--fill-color);\n",
              "      border-top-color: var(--fill-color);\n",
              "    }\n",
              "    30% {\n",
              "      border-color: transparent;\n",
              "      border-left-color: var(--fill-color);\n",
              "      border-top-color: var(--fill-color);\n",
              "      border-right-color: var(--fill-color);\n",
              "    }\n",
              "    40% {\n",
              "      border-color: transparent;\n",
              "      border-right-color: var(--fill-color);\n",
              "      border-top-color: var(--fill-color);\n",
              "    }\n",
              "    60% {\n",
              "      border-color: transparent;\n",
              "      border-right-color: var(--fill-color);\n",
              "    }\n",
              "    80% {\n",
              "      border-color: transparent;\n",
              "      border-right-color: var(--fill-color);\n",
              "      border-bottom-color: var(--fill-color);\n",
              "    }\n",
              "    90% {\n",
              "      border-color: transparent;\n",
              "      border-bottom-color: var(--fill-color);\n",
              "    }\n",
              "  }\n",
              "</style>\n",
              "\n",
              "      <script>\n",
              "        async function quickchart(key) {\n",
              "          const quickchartButtonEl =\n",
              "            document.querySelector('#' + key + ' button');\n",
              "          quickchartButtonEl.disabled = true;  // To prevent multiple clicks.\n",
              "          quickchartButtonEl.classList.add('colab-df-spinner');\n",
              "          try {\n",
              "            const charts = await google.colab.kernel.invokeFunction(\n",
              "                'suggestCharts', [key], {});\n",
              "          } catch (error) {\n",
              "            console.error('Error during call to suggestCharts:', error);\n",
              "          }\n",
              "          quickchartButtonEl.classList.remove('colab-df-spinner');\n",
              "          quickchartButtonEl.classList.add('colab-df-quickchart-complete');\n",
              "        }\n",
              "        (() => {\n",
              "          let quickchartButtonEl =\n",
              "            document.querySelector('#df-24a60dd9-27b2-4c80-8e38-5ac3480f0b4e button');\n",
              "          quickchartButtonEl.style.display =\n",
              "            google.colab.kernel.accessAllowed ? 'block' : 'none';\n",
              "        })();\n",
              "      </script>\n",
              "    </div>\n",
              "\n",
              "    </div>\n",
              "  </div>\n"
            ],
            "application/vnd.google.colaboratory.intrinsic+json": {
              "type": "dataframe",
              "summary": "{\n  \"name\": \"df\",\n  \"rows\": 8,\n  \"fields\": [\n    {\n      \"column\": \"PlayerID\",\n      \"properties\": {\n        \"dtype\": \"number\",\n        \"std\": 14256.246166143148,\n        \"min\": 9000.0,\n        \"max\": 49033.0,\n        \"num_unique_values\": 7,\n        \"samples\": [\n          40034.0,\n          29016.5,\n          39024.75\n        ],\n        \"semantic_type\": \"\",\n        \"description\": \"\"\n      }\n    },\n    {\n      \"column\": \"Age\",\n      \"properties\": {\n        \"dtype\": \"number\",\n        \"std\": 14143.95791595012,\n        \"min\": 10.043226791634499,\n        \"max\": 40034.0,\n        \"num_unique_values\": 8,\n        \"samples\": [\n          31.9925313483539,\n          32.0,\n          40034.0\n        ],\n        \"semantic_type\": \"\",\n        \"description\": \"\"\n      }\n    },\n    {\n      \"column\": \"PlayTimeHours\",\n      \"properties\": {\n        \"dtype\": \"number\",\n        \"std\": 14150.169368724233,\n        \"min\": 0.0001146866199155,\n        \"max\": 40034.0,\n        \"num_unique_values\": 8,\n        \"samples\": [\n          12.024365373325825,\n          12.00800215801307,\n          40034.0\n        ],\n        \"semantic_type\": \"\",\n        \"description\": \"\"\n      }\n    },\n    {\n      \"column\": \"InGamePurchases\",\n      \"properties\": {\n        \"dtype\": \"number\",\n        \"std\": 14154.075555329942,\n        \"min\": 0.0,\n        \"max\": 40034.0,\n        \"num_unique_values\": 5,\n        \"samples\": [\n          0.20085427386721286,\n          1.0,\n          0.40064428614987424\n        ],\n        \"semantic_type\": \"\",\n        \"description\": \"\"\n      }\n    },\n    {\n      \"column\": \"SessionsPerWeek\",\n      \"properties\": {\n        \"dtype\": \"number\",\n        \"std\": 14151.06479991388,\n        \"min\": 0.0,\n        \"max\": 40034.0,\n        \"num_unique_values\": 8,\n        \"samples\": [\n          9.471773992106709,\n          9.0,\n          40034.0\n        ],\n        \"semantic_type\": \"\",\n        \"description\": \"\"\n      }\n    },\n    {\n      \"column\": \"AvgSessionDurationMinutes\",\n      \"properties\": {\n        \"dtype\": \"number\",\n        \"std\": 14123.10267031886,\n        \"min\": 10.0,\n        \"max\": 40034.0,\n        \"num_unique_values\": 8,\n        \"samples\": [\n          94.79225158615178,\n          95.0,\n          40034.0\n        ],\n        \"semantic_type\": \"\",\n        \"description\": \"\"\n      }\n    },\n    {\n      \"column\": \"PlayerLevel\",\n      \"properties\": {\n        \"dtype\": \"number\",\n        \"std\": 14137.710875219478,\n        \"min\": 1.0,\n        \"max\": 40034.0,\n        \"num_unique_values\": 8,\n        \"samples\": [\n          49.65556776739771,\n          49.0,\n          40034.0\n        ],\n        \"semantic_type\": \"\",\n        \"description\": \"\"\n      }\n    },\n    {\n      \"column\": \"AchievementsUnlocked\",\n      \"properties\": {\n        \"dtype\": \"number\",\n        \"std\": 14145.984452204248,\n        \"min\": 0.0,\n        \"max\": 40034.0,\n        \"num_unique_values\": 8,\n        \"samples\": [\n          24.52647749412999,\n          25.0,\n          40034.0\n        ],\n        \"semantic_type\": \"\",\n        \"description\": \"\"\n      }\n    }\n  ]\n}"
            }
          },
          "metadata": {},
          "execution_count": 65
        }
      ]
    },
    {
      "cell_type": "markdown",
      "source": [
        "#### Identifikasi Kolom Numerik dan Kategorikal\n",
        "Langkah ini digunakan agar proses preprocessing dapat diterapkan secara tepat:  \n",
        "kolom numerik akan distandarisasi, dan kolom kategorikal akan diubah menjadi bentuk numerik dengan One-Hot Encoding."
      ],
      "metadata": {
        "id": "mpjvIP8ngAGR"
      }
    },
    {
      "cell_type": "code",
      "source": [
        "X = df.drop(columns=['PlayerID', 'EngagementLevel'])\n",
        "y = df['EngagementLevel']\n",
        "cat_cols = X.select_dtypes(include='object').columns.tolist()\n",
        "num_cols = X.select_dtypes(include=np.number).columns.tolist()\n",
        "print(\"Kolom kategorikal:\", cat_cols)\n",
        "print(\"Kolom numerik:\", num_cols)"
      ],
      "metadata": {
        "colab": {
          "base_uri": "https://localhost:8080/"
        },
        "id": "XufEsZRnX4yj",
        "outputId": "d6f069a8-3b80-4e95-d09e-a77443740198"
      },
      "execution_count": 66,
      "outputs": [
        {
          "output_type": "stream",
          "name": "stdout",
          "text": [
            "Kolom kategorikal: ['Gender', 'Location', 'GameGenre', 'GameDifficulty']\n",
            "Kolom numerik: ['Age', 'PlayTimeHours', 'InGamePurchases', 'SessionsPerWeek', 'AvgSessionDurationMinutes', 'PlayerLevel', 'AchievementsUnlocked']\n"
          ]
        }
      ]
    },
    {
      "cell_type": "markdown",
      "source": [
        "### Pemisahan Fitur dan Target\n",
        "Kolom target (`y`) dipisahkan dari fitur (`X`).  \n",
        "Kemudian data dibagi menjadi data latih (train) dan data uji (test) dengan proporsi 80:20 agar model dapat dievaluasi dengan baik."
      ],
      "metadata": {
        "id": "rC_JgD-XexkB"
      }
    },
    {
      "cell_type": "code",
      "source": [
        "X_train, X_test, y_train, y_test = train_test_split(\n",
        "    X, y, test_size=0.25, random_state=42, stratify=y\n",
        ")"
      ],
      "metadata": {
        "id": "Cb36z29tX-Rf"
      },
      "execution_count": 67,
      "outputs": []
    },
    {
      "cell_type": "markdown",
      "source": [
        "## A.2 Preprocessing & Model"
      ],
      "metadata": {
        "id": "9P7S-q0HYcLo"
      }
    },
    {
      "cell_type": "markdown",
      "source": [
        "#### Membuat Preprocessor\n",
        "Preprocessor akan menyiapkan data sebelum masuk ke model.  \n",
        "- Kolom numerik → distandarisasi menggunakan `StandardScaler`.  \n",
        "- Kolom kategorikal → dikonversi ke bentuk numerik dengan `OneHotEncoder`."
      ],
      "metadata": {
        "id": "JB8NR6dqgJAB"
      }
    },
    {
      "cell_type": "code",
      "source": [
        "preprocessor = ColumnTransformer(transformers=[\n",
        "    ('num', StandardScaler(), num_cols),\n",
        "    ('cat', OneHotEncoder(handle_unknown='ignore', sparse_output=False), cat_cols)\n",
        "])"
      ],
      "metadata": {
        "id": "QDl_s3PFYhNN"
      },
      "execution_count": 68,
      "outputs": []
    },
    {
      "cell_type": "markdown",
      "source": [
        "#### Support Vector Classifier (SVC)\n",
        "Model SVC digunakan untuk melakukan klasifikasi berdasarkan data perilaku pemain.  \n",
        "Model ini mencari hyperplane terbaik yang memisahkan kelas dengan margin maksimum.\n",
        "\n",
        "#### Evaluasi SVC\n",
        "Evaluasi dilakukan menggunakan Confusion Matrix dan Classification Report.  \n",
        "Hasilnya menunjukkan seberapa baik model mengenali setiap kategori perilaku pemain.\n",
        "\n",
        "#### Visualisasi Hasil Prediksi SVC\n",
        "Visualisasi menggunakan heatmap untuk menunjukkan jumlah prediksi benar dan salah antar kelas.\n"
      ],
      "metadata": {
        "id": "_Yn91bZRgM_0"
      }
    },
    {
      "cell_type": "code",
      "source": [
        "svc_pipe = Pipeline([\n",
        "    ('pre', preprocessor),\n",
        "    ('svc', LinearSVC(max_iter=5000, random_state=42))\n",
        "])\n",
        "\n",
        "svc_pipe.fit(X_train, y_train)\n",
        "y_pred_svc = svc_pipe.predict(X_test)\n",
        "\n",
        "from sklearn.metrics import confusion_matrix, classification_report\n",
        "import seaborn as sns\n",
        "import matplotlib.pyplot as plt\n",
        "\n",
        "cm = confusion_matrix(y_test, y_pred_svc)\n",
        "plt.figure(figsize=(6,5))\n",
        "sns.heatmap(cm, annot=True, fmt='d', cmap='Blues')\n",
        "plt.title('Confusion Matrix - Support Vector Classifier')\n",
        "plt.xlabel('Prediksi')\n",
        "plt.ylabel('Aktual')\n",
        "plt.show()"
      ],
      "metadata": {
        "colab": {
          "base_uri": "https://localhost:8080/",
          "height": 487
        },
        "id": "TuI8pD1wYuL0",
        "outputId": "01aa11e7-f488-4aef-9429-4433d0912a0b"
      },
      "execution_count": 69,
      "outputs": [
        {
          "output_type": "display_data",
          "data": {
            "text/plain": [
              "<Figure size 600x500 with 2 Axes>"
            ],
            "image/png": "[encoded data removed]"
          },
          "metadata": {}
        }
      ]
    },
    {
      "cell_type": "markdown",
      "source": [
        "### Analisis Support Vector Classifier (SVC)\n",
        "\n",
        "Model **Support Vector Classifier (SVC)** digunakan untuk mengklasifikasikan perilaku pemain game online berdasarkan fitur-fitur seperti waktu bermain, tingkat interaksi, dan preferensi bermain.  \n",
        "\n",
        "Berdasarkan hasil **Confusion Matrix**, terlihat bahwa sebagian besar data berhasil diklasifikasikan dengan benar (nilai diagonal paling besar), menandakan model cukup akurat.  \n",
        "Dari **Classification Report**, nilai precision dan recall yang seimbang menunjukkan bahwa model mampu mengenali tiap kategori dengan baik.\n",
        "\n",
        "Secara keseluruhan, SVC memberikan performa klasifikasi yang stabil pada dataset ini dan efektif dalam memisahkan kategori perilaku pemain.\n"
      ],
      "metadata": {
        "id": "n0Nm6HEheVfr"
      }
    },
    {
      "cell_type": "markdown",
      "source": [
        "####  Random Forest Classifier\n",
        "Random Forest merupakan metode ensemble yang menggabungkan banyak decision tree.  \n",
        "Cocok untuk dataset campuran numerik dan kategorikal seperti data perilaku pemain game online.\n",
        "\n",
        "####  Evaluasi & Visualisasi RF\n",
        "Menampilkan hasil evaluasi dan visualisasi Confusion Matrix untuk model Random Forest."
      ],
      "metadata": {
        "id": "GDjMmA9ogbrK"
      }
    },
    {
      "cell_type": "code",
      "source": [
        "rf_pipe = Pipeline([\n",
        "    ('pre', preprocessor),\n",
        "    ('rf', RandomForestClassifier(n_estimators=100, random_state=42))\n",
        "])\n",
        "rf_pipe.fit(X_train, y_train)\n",
        "y_pred_rf = rf_pipe.predict(X_test)\n",
        "\n",
        "cm_rf = confusion_matrix(y_test, y_pred_rf)\n",
        "plt.figure(figsize=(6,5))\n",
        "sns.heatmap(cm_rf, annot=True, fmt='d', cmap='Greens')\n",
        "plt.title('Confusion Matrix - Random Forest Classifier')\n",
        "plt.xlabel('Prediksi')\n",
        "plt.ylabel('Aktual')\n",
        "plt.show()"
      ],
      "metadata": {
        "colab": {
          "base_uri": "https://localhost:8080/",
          "height": 487
        },
        "id": "P4w6jO7oYyHy",
        "outputId": "91a536ff-01a6-49a0-8c9c-bcd3c1d84eee"
      },
      "execution_count": 70,
      "outputs": [
        {
          "output_type": "display_data",
          "data": {
            "text/plain": [
              "<Figure size 600x500 with 2 Axes>"
            ],
            "image/png": "[encoded data removed]"
          },
          "metadata": {}
        }
      ]
    },
    {
      "cell_type": "markdown",
      "source": [
        "### Analisis Support Vector Classifier (SVC)\n",
        "\n",
        "Model **Support Vector Classifier (SVC)** digunakan untuk mengklasifikasikan perilaku pemain game online berdasarkan fitur-fitur seperti waktu bermain, tingkat interaksi, dan preferensi bermain.  \n",
        "\n",
        "Berdasarkan hasil **Confusion Matrix**, terlihat bahwa sebagian besar data berhasil diklasifikasikan dengan benar (nilai diagonal paling besar), menandakan model cukup akurat.  \n",
        "Dari **Classification Report**, nilai precision dan recall yang seimbang menunjukkan bahwa model mampu mengenali tiap kategori dengan baik.\n",
        "\n",
        "Secara keseluruhan, SVC memberikan performa klasifikasi yang stabil pada dataset ini dan efektif dalam memisahkan kategori perilaku pemain."
      ],
      "metadata": {
        "id": "T5oatI0odg8f"
      }
    },
    {
      "cell_type": "code",
      "source": [
        "from sklearn.metrics import accuracy_score\n",
        "import matplotlib.pyplot as plt\n",
        "\n",
        "accuracy_scores = {\n",
        "    \"Support Vector Classifier\": accuracy_score(y_test, y_pred_svc),\n",
        "    \"Random Forest\": accuracy_score(y_test, y_pred_rf)\n",
        "}\n",
        "\n",
        "plt.figure(figsize=(6,4))\n",
        "plt.bar(accuracy_scores.keys(), accuracy_scores.values(), color=['skyblue', 'lightgreen'])\n",
        "plt.title(\"Perbandingan Akurasi Model\")\n",
        "plt.ylabel(\"Akurasi\")\n",
        "plt.ylim(0, 1)\n",
        "plt.grid(axis='y', linestyle='--', alpha=0.7)\n",
        "plt.show()\n"
      ],
      "metadata": {
        "colab": {
          "base_uri": "https://localhost:8080/",
          "height": 391
        },
        "id": "18vjfL5nhuNi",
        "outputId": "19108f30-d7aa-4f5c-a693-6f3e24d0fe05"
      },
      "execution_count": 71,
      "outputs": [
        {
          "output_type": "display_data",
          "data": {
            "text/plain": [
              "<Figure size 600x400 with 1 Axes>"
            ],
            "image/png": "[encoded data removed]"
          },
          "metadata": {}
        }
      ]
    },
    {
      "cell_type": "markdown",
      "source": [
        "## A.3 Evaluasi Model"
      ],
      "metadata": {
        "id": "YcBmFHAlZwka"
      }
    },
    {
      "cell_type": "code",
      "source": [
        "from sklearn.metrics import classification_report, confusion_matrix\n",
        "\n",
        "print(\" Support Vector Classifier \")\n",
        "print(classification_report(y_test, y_pred_svc))\n",
        "print(confusion_matrix(y_test, y_pred_svc))\n",
        "\n",
        "print(\"\\n Random Forest \")\n",
        "print(classification_report(y_test, y_pred_rf))\n",
        "print(confusion_matrix(y_test, y_pred_rf))"
      ],
      "metadata": {
        "colab": {
          "base_uri": "https://localhost:8080/"
        },
        "id": "TOKQmRJlZ0Si",
        "outputId": "0daf0154-fa4d-4520-e8c7-4b3d6b85b351"
      },
      "execution_count": 72,
      "outputs": [
        {
          "output_type": "stream",
          "name": "stdout",
          "text": [
            " Support Vector Classifier \n",
            "              precision    recall  f1-score   support\n",
            "\n",
            "        High       0.85      0.84      0.85      2584\n",
            "         Low       0.79      0.71      0.75      2581\n",
            "      Medium       0.81      0.86      0.83      4844\n",
            "\n",
            "    accuracy                           0.82     10009\n",
            "   macro avg       0.82      0.80      0.81     10009\n",
            "weighted avg       0.82      0.82      0.81     10009\n",
            "\n",
            "[[2180   86  318]\n",
            " [  98 1830  653]\n",
            " [ 297  391 4156]]\n",
            "\n",
            " Random Forest \n",
            "              precision    recall  f1-score   support\n",
            "\n",
            "        High       0.91      0.84      0.88      2584\n",
            "         Low       0.91      0.86      0.88      2581\n",
            "      Medium       0.88      0.94      0.91      4844\n",
            "\n",
            "    accuracy                           0.90     10009\n",
            "   macro avg       0.90      0.88      0.89     10009\n",
            "weighted avg       0.90      0.90      0.90     10009\n",
            "\n",
            "[[2183   85  316]\n",
            " [  77 2218  286]\n",
            " [ 131  140 4573]]\n"
          ]
        }
      ]
    },
    {
      "cell_type": "markdown",
      "source": [
        "## Analisis :\n",
        "Model Random Forest memberikan hasil lebih baik dibanding SVC dengan akurasi 90%.\n",
        "Nilai precision, recall, dan f1-score yang tinggi pada seluruh kelas menunjukkan performa model yang stabil dan konsisten.\n",
        "Kelas “Medium” masih paling dominan, namun model ini juga mampu mengenali kelas “Low” dan “High” dengan lebih baik.\n",
        "Secara keseluruhan, Random Forest lebih unggul karena mampu menangani data kategorikal dan hubungan non-linear dengan lebih efektif."
      ],
      "metadata": {
        "id": "YvhHJA67hB9H"
      }
    }
  ]
}