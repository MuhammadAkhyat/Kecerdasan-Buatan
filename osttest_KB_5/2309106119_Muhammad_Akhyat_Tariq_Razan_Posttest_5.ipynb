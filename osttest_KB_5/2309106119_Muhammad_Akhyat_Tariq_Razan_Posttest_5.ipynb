{
  "nbformat": 4,
  "nbformat_minor": 0,
  "metadata": {
    "colab": {
      "provenance": [],
      "gpuType": "T4",
      "authorship_tag": "ABX9TyORmUoob1j9k4y+LCwI7QQa"
    },
    "kernelspec": {
      "name": "python3",
      "display_name": "Python 3"
    },
    "language_info": {
      "name": "python"
    },
    "accelerator": "GPU"
  },
  "cells": [
    {
      "cell_type": "markdown",
      "source": [
        "- NIM  : 2309106119\n",
        "- Nama : Muhammad Akhyat Tariq Razan"
      ],
      "metadata": {
        "id": "R-27g89ILju_"
      }
    },
    {
      "cell_type": "code",
      "source": [
        "import pandas as pd\n",
        "import numpy as np\n",
        "from sklearn.model_selection import train_test_split\n",
        "from sklearn.preprocessing import LabelEncoder, StandardScaler\n",
        "from tensorflow.keras.models import Sequential\n",
        "from tensorflow.keras.layers import Dense, Dropout\n",
        "from tensorflow.keras.utils import to_categorical\n",
        "from sklearn.metrics import accuracy_score, classification_report"
      ],
      "metadata": {
        "id": "18FbhvtxE8px"
      },
      "execution_count": 3,
      "outputs": []
    },
    {
      "cell_type": "markdown",
      "source": [
        "## 1. Load Dataset\n",
        "- Membaca dan memproses dataset\n"
      ],
      "metadata": {
        "id": "dxV9KfiCEuxU"
      }
    },
    {
      "cell_type": "code",
      "source": [
        "df = pd.read_csv('online_gaming_behavior_dataset.csv')\n",
        "\n",
        "# Tentukan kolom target\n",
        "target_col = 'EngagementLevel'\n",
        "\n",
        "# Pisahkan fitur dan target\n",
        "X = df.drop(columns=[target_col])\n",
        "y = df[target_col]"
      ],
      "metadata": {
        "id": "yKk6vMgIE7VT"
      },
      "execution_count": 4,
      "outputs": []
    },
    {
      "cell_type": "markdown",
      "source": [
        "## 2. Encode kolom kategorikal\n",
        "- Menentukan kolom target: `EngagementLevel`\n",
        "- Melakukan One-Hot Encoding untuk fitur kategorikal\n",
        "\n"
      ],
      "metadata": {
        "id": "4TyOzHYQFBoa"
      }
    },
    {
      "cell_type": "code",
      "source": [
        "# Pilih kolom kategorikal\n",
        "categorical_cols = X.select_dtypes(include=['object']).columns\n",
        "\n",
        "# Ubah kategori menjadi numerik (One-hot encoding)\n",
        "X = pd.get_dummies(X, columns=categorical_cols, drop_first=True)\n",
        "\n",
        "# Encode target\n",
        "le = LabelEncoder()\n",
        "y_encoded = le.fit_transform(y)\n",
        "y_categorical = to_categorical(y_encoded)"
      ],
      "metadata": {
        "id": "zl5-Ly8TFDqJ"
      },
      "execution_count": 5,
      "outputs": []
    },
    {
      "cell_type": "markdown",
      "source": [
        "## 3. Normalisasi fitur numerik\n",
        "- Melakukan normalisasi data dengan `StandardScaler`\n"
      ],
      "metadata": {
        "id": "lvHiDZLuFpF5"
      }
    },
    {
      "cell_type": "code",
      "source": [
        "scaler = StandardScaler()\n",
        "X_scaled = scaler.fit_transform(X)"
      ],
      "metadata": {
        "id": "GczKhS9PFqdp"
      },
      "execution_count": 6,
      "outputs": []
    },
    {
      "cell_type": "markdown",
      "source": [
        "## 4. Split Data\n",
        "- 80% data untuk training dan 20% untuk validation  \n",
        "- Menggunakan `train_test_split` dengan `stratify` agar kelas seimbang"
      ],
      "metadata": {
        "id": "rTjfN0q1HZhk"
      }
    },
    {
      "cell_type": "code",
      "source": [
        "X_train, X_val, y_train, y_val = train_test_split(\n",
        "    X_scaled, y_categorical, test_size=0.2, random_state=42, stratify=y_categorical\n",
        ")"
      ],
      "metadata": {
        "id": "PAmjbZ_PHeR5"
      },
      "execution_count": 7,
      "outputs": []
    },
    {
      "cell_type": "markdown",
      "source": [
        "## 5. Build Model (Sequential)\n",
        "- Input layer sesuai jumlah fitur  \n",
        "- Hidden layers: 128 neuron dan 64 neuron (aktivasi ReLU)  \n",
        "- Dropout (0.3) untuk mencegah overfitting  \n",
        "- Output layer: `Softmax` sesuai jumlah kelas"
      ],
      "metadata": {
        "id": "-bkW8Cc-Hkqd"
      }
    },
    {
      "cell_type": "code",
      "source": [
        "from keras import Input, Sequential\n",
        "from keras.layers import Dense, Dropout\n",
        "\n",
        "model = Sequential([\n",
        "    Input(shape=(X_train.shape[1],)),\n",
        "    Dense(128, activation='relu'),\n",
        "    Dropout(0.3),\n",
        "    Dense(64, activation='relu'),\n",
        "    Dropout(0.3),\n",
        "    Dense(y_categorical.shape[1], activation='softmax')\n",
        "])\n",
        "\n",
        "model.compile(\n",
        "    optimizer='adam',\n",
        "    loss='categorical_crossentropy',\n",
        "    metrics=['accuracy']\n",
        ")\n",
        "\n",
        "model.summary()\n"
      ],
      "metadata": {
        "colab": {
          "base_uri": "https://localhost:8080/",
          "height": 306
        },
        "id": "58irh7t0HnEQ",
        "outputId": "28525ba5-40d6-469f-e4b6-b01881874a95"
      },
      "execution_count": 8,
      "outputs": [
        {
          "output_type": "display_data",
          "data": {
            "text/plain": [
              "\u001b[1mModel: \"sequential\"\u001b[0m\n"
            ],
            "text/html": [
              "<pre style=\"white-space:pre;overflow-x:auto;line-height:normal;font-family:Menlo,'DejaVu Sans Mono',consolas,'Courier New',monospace\"><span style=\"font-weight: bold\">Model: \"sequential\"</span>\n",
              "</pre>\n"
            ]
          },
          "metadata": {}
        },
        {
          "output_type": "display_data",
          "data": {
            "text/plain": [
              "┏━━━━━━━━━━━━━━━━━━━━━━━━━━━━━━━━━┳━━━━━━━━━━━━━━━━━━━━━━━━┳━━━━━━━━━━━━━━━┓\n",
              "┃\u001b[1m \u001b[0m\u001b[1mLayer (type)                   \u001b[0m\u001b[1m \u001b[0m┃\u001b[1m \u001b[0m\u001b[1mOutput Shape          \u001b[0m\u001b[1m \u001b[0m┃\u001b[1m \u001b[0m\u001b[1m      Param #\u001b[0m\u001b[1m \u001b[0m┃\n",
              "┡━━━━━━━━━━━━━━━━━━━━━━━━━━━━━━━━━╇━━━━━━━━━━━━━━━━━━━━━━━━╇━━━━━━━━━━━━━━━┩\n",
              "│ dense (\u001b[38;5;33mDense\u001b[0m)                   │ (\u001b[38;5;45mNone\u001b[0m, \u001b[38;5;34m128\u001b[0m)            │         \u001b[38;5;34m2,432\u001b[0m │\n",
              "├─────────────────────────────────┼────────────────────────┼───────────────┤\n",
              "│ dropout (\u001b[38;5;33mDropout\u001b[0m)               │ (\u001b[38;5;45mNone\u001b[0m, \u001b[38;5;34m128\u001b[0m)            │             \u001b[38;5;34m0\u001b[0m │\n",
              "├─────────────────────────────────┼────────────────────────┼───────────────┤\n",
              "│ dense_1 (\u001b[38;5;33mDense\u001b[0m)                 │ (\u001b[38;5;45mNone\u001b[0m, \u001b[38;5;34m64\u001b[0m)             │         \u001b[38;5;34m8,256\u001b[0m │\n",
              "├─────────────────────────────────┼────────────────────────┼───────────────┤\n",
              "│ dropout_1 (\u001b[38;5;33mDropout\u001b[0m)             │ (\u001b[38;5;45mNone\u001b[0m, \u001b[38;5;34m64\u001b[0m)             │             \u001b[38;5;34m0\u001b[0m │\n",
              "├─────────────────────────────────┼────────────────────────┼───────────────┤\n",
              "│ dense_2 (\u001b[38;5;33mDense\u001b[0m)                 │ (\u001b[38;5;45mNone\u001b[0m, \u001b[38;5;34m3\u001b[0m)              │           \u001b[38;5;34m195\u001b[0m │\n",
              "└─────────────────────────────────┴────────────────────────┴───────────────┘\n"
            ],
            "text/html": [
              "<pre style=\"white-space:pre;overflow-x:auto;line-height:normal;font-family:Menlo,'DejaVu Sans Mono',consolas,'Courier New',monospace\">┏━━━━━━━━━━━━━━━━━━━━━━━━━━━━━━━━━┳━━━━━━━━━━━━━━━━━━━━━━━━┳━━━━━━━━━━━━━━━┓\n",
              "┃<span style=\"font-weight: bold\"> Layer (type)                    </span>┃<span style=\"font-weight: bold\"> Output Shape           </span>┃<span style=\"font-weight: bold\">       Param # </span>┃\n",
              "┡━━━━━━━━━━━━━━━━━━━━━━━━━━━━━━━━━╇━━━━━━━━━━━━━━━━━━━━━━━━╇━━━━━━━━━━━━━━━┩\n",
              "│ dense (<span style=\"color: #0087ff; text-decoration-color: #0087ff\">Dense</span>)                   │ (<span style=\"color: #00d7ff; text-decoration-color: #00d7ff\">None</span>, <span style=\"color: #00af00; text-decoration-color: #00af00\">128</span>)            │         <span style=\"color: #00af00; text-decoration-color: #00af00\">2,432</span> │\n",
              "├─────────────────────────────────┼────────────────────────┼───────────────┤\n",
              "│ dropout (<span style=\"color: #0087ff; text-decoration-color: #0087ff\">Dropout</span>)               │ (<span style=\"color: #00d7ff; text-decoration-color: #00d7ff\">None</span>, <span style=\"color: #00af00; text-decoration-color: #00af00\">128</span>)            │             <span style=\"color: #00af00; text-decoration-color: #00af00\">0</span> │\n",
              "├─────────────────────────────────┼────────────────────────┼───────────────┤\n",
              "│ dense_1 (<span style=\"color: #0087ff; text-decoration-color: #0087ff\">Dense</span>)                 │ (<span style=\"color: #00d7ff; text-decoration-color: #00d7ff\">None</span>, <span style=\"color: #00af00; text-decoration-color: #00af00\">64</span>)             │         <span style=\"color: #00af00; text-decoration-color: #00af00\">8,256</span> │\n",
              "├─────────────────────────────────┼────────────────────────┼───────────────┤\n",
              "│ dropout_1 (<span style=\"color: #0087ff; text-decoration-color: #0087ff\">Dropout</span>)             │ (<span style=\"color: #00d7ff; text-decoration-color: #00d7ff\">None</span>, <span style=\"color: #00af00; text-decoration-color: #00af00\">64</span>)             │             <span style=\"color: #00af00; text-decoration-color: #00af00\">0</span> │\n",
              "├─────────────────────────────────┼────────────────────────┼───────────────┤\n",
              "│ dense_2 (<span style=\"color: #0087ff; text-decoration-color: #0087ff\">Dense</span>)                 │ (<span style=\"color: #00d7ff; text-decoration-color: #00d7ff\">None</span>, <span style=\"color: #00af00; text-decoration-color: #00af00\">3</span>)              │           <span style=\"color: #00af00; text-decoration-color: #00af00\">195</span> │\n",
              "└─────────────────────────────────┴────────────────────────┴───────────────┘\n",
              "</pre>\n"
            ]
          },
          "metadata": {}
        },
        {
          "output_type": "display_data",
          "data": {
            "text/plain": [
              "\u001b[1m Total params: \u001b[0m\u001b[38;5;34m10,883\u001b[0m (42.51 KB)\n"
            ],
            "text/html": [
              "<pre style=\"white-space:pre;overflow-x:auto;line-height:normal;font-family:Menlo,'DejaVu Sans Mono',consolas,'Courier New',monospace\"><span style=\"font-weight: bold\"> Total params: </span><span style=\"color: #00af00; text-decoration-color: #00af00\">10,883</span> (42.51 KB)\n",
              "</pre>\n"
            ]
          },
          "metadata": {}
        },
        {
          "output_type": "display_data",
          "data": {
            "text/plain": [
              "\u001b[1m Trainable params: \u001b[0m\u001b[38;5;34m10,883\u001b[0m (42.51 KB)\n"
            ],
            "text/html": [
              "<pre style=\"white-space:pre;overflow-x:auto;line-height:normal;font-family:Menlo,'DejaVu Sans Mono',consolas,'Courier New',monospace\"><span style=\"font-weight: bold\"> Trainable params: </span><span style=\"color: #00af00; text-decoration-color: #00af00\">10,883</span> (42.51 KB)\n",
              "</pre>\n"
            ]
          },
          "metadata": {}
        },
        {
          "output_type": "display_data",
          "data": {
            "text/plain": [
              "\u001b[1m Non-trainable params: \u001b[0m\u001b[38;5;34m0\u001b[0m (0.00 B)\n"
            ],
            "text/html": [
              "<pre style=\"white-space:pre;overflow-x:auto;line-height:normal;font-family:Menlo,'DejaVu Sans Mono',consolas,'Courier New',monospace\"><span style=\"font-weight: bold\"> Non-trainable params: </span><span style=\"color: #00af00; text-decoration-color: #00af00\">0</span> (0.00 B)\n",
              "</pre>\n"
            ]
          },
          "metadata": {}
        }
      ]
    },
    {
      "cell_type": "markdown",
      "source": [
        "## 6. Train Model\n",
        "- Optimizer: `Adam`\n",
        "- Loss function: `Categorical Crossentropy`\n",
        "- Epoch: 50, Batch size: 32"
      ],
      "metadata": {
        "id": "JHE0XNCkHzRy"
      }
    },
    {
      "cell_type": "code",
      "source": [
        "history = model.fit(\n",
        "    X_train, y_train,\n",
        "    validation_data=(X_val, y_val),\n",
        "    epochs=50,\n",
        "    batch_size=32,\n",
        "    verbose=1\n",
        ")"
      ],
      "metadata": {
        "colab": {
          "base_uri": "https://localhost:8080/"
        },
        "id": "Jo5JZYO3H0jD",
        "outputId": "9309fa07-fd03-4180-9339-d2b3efc4df12"
      },
      "execution_count": 9,
      "outputs": [
        {
          "output_type": "stream",
          "name": "stdout",
          "text": [
            "Epoch 1/50\n",
            "\u001b[1m1001/1001\u001b[0m \u001b[32m━━━━━━━━━━━━━━━━━━━━\u001b[0m\u001b[37m\u001b[0m \u001b[1m8s\u001b[0m 5ms/step - accuracy: 0.6842 - loss: 0.7441 - val_accuracy: 0.8579 - val_loss: 0.4689\n",
            "Epoch 2/50\n",
            "\u001b[1m1001/1001\u001b[0m \u001b[32m━━━━━━━━━━━━━━━━━━━━\u001b[0m\u001b[37m\u001b[0m \u001b[1m3s\u001b[0m 3ms/step - accuracy: 0.8305 - loss: 0.5092 - val_accuracy: 0.8826 - val_loss: 0.4167\n",
            "Epoch 3/50\n",
            "\u001b[1m1001/1001\u001b[0m \u001b[32m━━━━━━━━━━━━━━━━━━━━\u001b[0m\u001b[37m\u001b[0m \u001b[1m3s\u001b[0m 3ms/step - accuracy: 0.8529 - loss: 0.4605 - val_accuracy: 0.8947 - val_loss: 0.3973\n",
            "Epoch 4/50\n",
            "\u001b[1m1001/1001\u001b[0m \u001b[32m━━━━━━━━━━━━━━━━━━━━\u001b[0m\u001b[37m\u001b[0m \u001b[1m3s\u001b[0m 3ms/step - accuracy: 0.8647 - loss: 0.4353 - val_accuracy: 0.8968 - val_loss: 0.3878\n",
            "Epoch 5/50\n",
            "\u001b[1m1001/1001\u001b[0m \u001b[32m━━━━━━━━━━━━━━━━━━━━\u001b[0m\u001b[37m\u001b[0m \u001b[1m3s\u001b[0m 3ms/step - accuracy: 0.8719 - loss: 0.4302 - val_accuracy: 0.9018 - val_loss: 0.3801\n",
            "Epoch 6/50\n",
            "\u001b[1m1001/1001\u001b[0m \u001b[32m━━━━━━━━━━━━━━━━━━━━\u001b[0m\u001b[37m\u001b[0m \u001b[1m5s\u001b[0m 5ms/step - accuracy: 0.8799 - loss: 0.4109 - val_accuracy: 0.8992 - val_loss: 0.3773\n",
            "Epoch 7/50\n",
            "\u001b[1m1001/1001\u001b[0m \u001b[32m━━━━━━━━━━━━━━━━━━━━\u001b[0m\u001b[37m\u001b[0m \u001b[1m3s\u001b[0m 3ms/step - accuracy: 0.8796 - loss: 0.4152 - val_accuracy: 0.9026 - val_loss: 0.3725\n",
            "Epoch 8/50\n",
            "\u001b[1m1001/1001\u001b[0m \u001b[32m━━━━━━━━━━━━━━━━━━━━\u001b[0m\u001b[37m\u001b[0m \u001b[1m3s\u001b[0m 3ms/step - accuracy: 0.8852 - loss: 0.3975 - val_accuracy: 0.9077 - val_loss: 0.3657\n",
            "Epoch 9/50\n",
            "\u001b[1m1001/1001\u001b[0m \u001b[32m━━━━━━━━━━━━━━━━━━━━\u001b[0m\u001b[37m\u001b[0m \u001b[1m6s\u001b[0m 3ms/step - accuracy: 0.8889 - loss: 0.3954 - val_accuracy: 0.9048 - val_loss: 0.3685\n",
            "Epoch 10/50\n",
            "\u001b[1m1001/1001\u001b[0m \u001b[32m━━━━━━━━━━━━━━━━━━━━\u001b[0m\u001b[37m\u001b[0m \u001b[1m3s\u001b[0m 3ms/step - accuracy: 0.8915 - loss: 0.3886 - val_accuracy: 0.9061 - val_loss: 0.3625\n",
            "Epoch 11/50\n",
            "\u001b[1m1001/1001\u001b[0m \u001b[32m━━━━━━━━━━━━━━━━━━━━\u001b[0m\u001b[37m\u001b[0m \u001b[1m3s\u001b[0m 3ms/step - accuracy: 0.8942 - loss: 0.3812 - val_accuracy: 0.9070 - val_loss: 0.3617\n",
            "Epoch 12/50\n",
            "\u001b[1m1001/1001\u001b[0m \u001b[32m━━━━━━━━━━━━━━━━━━━━\u001b[0m\u001b[37m\u001b[0m \u001b[1m3s\u001b[0m 3ms/step - accuracy: 0.8973 - loss: 0.3723 - val_accuracy: 0.9047 - val_loss: 0.3627\n",
            "Epoch 13/50\n",
            "\u001b[1m1001/1001\u001b[0m \u001b[32m━━━━━━━━━━━━━━━━━━━━\u001b[0m\u001b[37m\u001b[0m \u001b[1m3s\u001b[0m 3ms/step - accuracy: 0.8947 - loss: 0.3806 - val_accuracy: 0.9097 - val_loss: 0.3548\n",
            "Epoch 14/50\n",
            "\u001b[1m1001/1001\u001b[0m \u001b[32m━━━━━━━━━━━━━━━━━━━━\u001b[0m\u001b[37m\u001b[0m \u001b[1m3s\u001b[0m 3ms/step - accuracy: 0.8970 - loss: 0.3746 - val_accuracy: 0.9070 - val_loss: 0.3563\n",
            "Epoch 15/50\n",
            "\u001b[1m1001/1001\u001b[0m \u001b[32m━━━━━━━━━━━━━━━━━━━━\u001b[0m\u001b[37m\u001b[0m \u001b[1m3s\u001b[0m 3ms/step - accuracy: 0.8971 - loss: 0.3738 - val_accuracy: 0.9125 - val_loss: 0.3550\n",
            "Epoch 16/50\n",
            "\u001b[1m1001/1001\u001b[0m \u001b[32m━━━━━━━━━━━━━━━━━━━━\u001b[0m\u001b[37m\u001b[0m \u001b[1m3s\u001b[0m 3ms/step - accuracy: 0.9004 - loss: 0.3697 - val_accuracy: 0.9080 - val_loss: 0.3567\n",
            "Epoch 17/50\n",
            "\u001b[1m1001/1001\u001b[0m \u001b[32m━━━━━━━━━━━━━━━━━━━━\u001b[0m\u001b[37m\u001b[0m \u001b[1m3s\u001b[0m 3ms/step - accuracy: 0.9017 - loss: 0.3642 - val_accuracy: 0.9096 - val_loss: 0.3536\n",
            "Epoch 18/50\n",
            "\u001b[1m1001/1001\u001b[0m \u001b[32m━━━━━━━━━━━━━━━━━━━━\u001b[0m\u001b[37m\u001b[0m \u001b[1m3s\u001b[0m 3ms/step - accuracy: 0.8992 - loss: 0.3733 - val_accuracy: 0.9127 - val_loss: 0.3519\n",
            "Epoch 19/50\n",
            "\u001b[1m1001/1001\u001b[0m \u001b[32m━━━━━━━━━━━━━━━━━━━━\u001b[0m\u001b[37m\u001b[0m \u001b[1m3s\u001b[0m 3ms/step - accuracy: 0.9017 - loss: 0.3616 - val_accuracy: 0.9086 - val_loss: 0.3512\n",
            "Epoch 20/50\n",
            "\u001b[1m1001/1001\u001b[0m \u001b[32m━━━━━━━━━━━━━━━━━━━━\u001b[0m\u001b[37m\u001b[0m \u001b[1m3s\u001b[0m 3ms/step - accuracy: 0.9022 - loss: 0.3677 - val_accuracy: 0.9098 - val_loss: 0.3496\n",
            "Epoch 21/50\n",
            "\u001b[1m1001/1001\u001b[0m \u001b[32m━━━━━━━━━━━━━━━━━━━━\u001b[0m\u001b[37m\u001b[0m \u001b[1m4s\u001b[0m 4ms/step - accuracy: 0.9026 - loss: 0.3597 - val_accuracy: 0.9098 - val_loss: 0.3486\n",
            "Epoch 22/50\n",
            "\u001b[1m1001/1001\u001b[0m \u001b[32m━━━━━━━━━━━━━━━━━━━━\u001b[0m\u001b[37m\u001b[0m \u001b[1m3s\u001b[0m 3ms/step - accuracy: 0.9032 - loss: 0.3621 - val_accuracy: 0.9086 - val_loss: 0.3489\n",
            "Epoch 23/50\n",
            "\u001b[1m1001/1001\u001b[0m \u001b[32m━━━━━━━━━━━━━━━━━━━━\u001b[0m\u001b[37m\u001b[0m \u001b[1m3s\u001b[0m 3ms/step - accuracy: 0.9011 - loss: 0.3632 - val_accuracy: 0.9081 - val_loss: 0.3474\n",
            "Epoch 24/50\n",
            "\u001b[1m1001/1001\u001b[0m \u001b[32m━━━━━━━━━━━━━━━━━━━━\u001b[0m\u001b[37m\u001b[0m \u001b[1m3s\u001b[0m 3ms/step - accuracy: 0.9028 - loss: 0.3547 - val_accuracy: 0.9073 - val_loss: 0.3486\n",
            "Epoch 25/50\n",
            "\u001b[1m1001/1001\u001b[0m \u001b[32m━━━━━━━━━━━━━━━━━━━━\u001b[0m\u001b[37m\u001b[0m \u001b[1m3s\u001b[0m 3ms/step - accuracy: 0.9067 - loss: 0.3499 - val_accuracy: 0.9135 - val_loss: 0.3423\n",
            "Epoch 26/50\n",
            "\u001b[1m1001/1001\u001b[0m \u001b[32m━━━━━━━━━━━━━━━━━━━━\u001b[0m\u001b[37m\u001b[0m \u001b[1m3s\u001b[0m 3ms/step - accuracy: 0.9035 - loss: 0.3598 - val_accuracy: 0.9102 - val_loss: 0.3428\n",
            "Epoch 27/50\n",
            "\u001b[1m1001/1001\u001b[0m \u001b[32m━━━━━━━━━━━━━━━━━━━━\u001b[0m\u001b[37m\u001b[0m \u001b[1m3s\u001b[0m 3ms/step - accuracy: 0.9063 - loss: 0.3454 - val_accuracy: 0.9113 - val_loss: 0.3474\n",
            "Epoch 28/50\n",
            "\u001b[1m1001/1001\u001b[0m \u001b[32m━━━━━━━━━━━━━━━━━━━━\u001b[0m\u001b[37m\u001b[0m \u001b[1m3s\u001b[0m 3ms/step - accuracy: 0.9071 - loss: 0.3502 - val_accuracy: 0.9070 - val_loss: 0.3485\n",
            "Epoch 29/50\n",
            "\u001b[1m1001/1001\u001b[0m \u001b[32m━━━━━━━━━━━━━━━━━━━━\u001b[0m\u001b[37m\u001b[0m \u001b[1m3s\u001b[0m 3ms/step - accuracy: 0.9007 - loss: 0.3629 - val_accuracy: 0.9112 - val_loss: 0.3423\n",
            "Epoch 30/50\n",
            "\u001b[1m1001/1001\u001b[0m \u001b[32m━━━━━━━━━━━━━━━━━━━━\u001b[0m\u001b[37m\u001b[0m \u001b[1m5s\u001b[0m 3ms/step - accuracy: 0.9072 - loss: 0.3518 - val_accuracy: 0.9092 - val_loss: 0.3483\n",
            "Epoch 31/50\n",
            "\u001b[1m1001/1001\u001b[0m \u001b[32m━━━━━━━━━━━━━━━━━━━━\u001b[0m\u001b[37m\u001b[0m \u001b[1m3s\u001b[0m 3ms/step - accuracy: 0.9063 - loss: 0.3543 - val_accuracy: 0.9108 - val_loss: 0.3438\n",
            "Epoch 32/50\n",
            "\u001b[1m1001/1001\u001b[0m \u001b[32m━━━━━━━━━━━━━━━━━━━━\u001b[0m\u001b[37m\u001b[0m \u001b[1m3s\u001b[0m 3ms/step - accuracy: 0.9066 - loss: 0.3528 - val_accuracy: 0.9116 - val_loss: 0.3455\n",
            "Epoch 33/50\n",
            "\u001b[1m1001/1001\u001b[0m \u001b[32m━━━━━━━━━━━━━━━━━━━━\u001b[0m\u001b[37m\u001b[0m \u001b[1m3s\u001b[0m 3ms/step - accuracy: 0.9071 - loss: 0.3482 - val_accuracy: 0.9095 - val_loss: 0.3449\n",
            "Epoch 34/50\n",
            "\u001b[1m1001/1001\u001b[0m \u001b[32m━━━━━━━━━━━━━━━━━━━━\u001b[0m\u001b[37m\u001b[0m \u001b[1m3s\u001b[0m 3ms/step - accuracy: 0.9053 - loss: 0.3505 - val_accuracy: 0.9136 - val_loss: 0.3394\n",
            "Epoch 35/50\n",
            "\u001b[1m1001/1001\u001b[0m \u001b[32m━━━━━━━━━━━━━━━━━━━━\u001b[0m\u001b[37m\u001b[0m \u001b[1m3s\u001b[0m 3ms/step - accuracy: 0.9083 - loss: 0.3471 - val_accuracy: 0.9121 - val_loss: 0.3420\n",
            "Epoch 36/50\n",
            "\u001b[1m1001/1001\u001b[0m \u001b[32m━━━━━━━━━━━━━━━━━━━━\u001b[0m\u001b[37m\u001b[0m \u001b[1m3s\u001b[0m 3ms/step - accuracy: 0.9093 - loss: 0.3411 - val_accuracy: 0.9140 - val_loss: 0.3425\n",
            "Epoch 37/50\n",
            "\u001b[1m1001/1001\u001b[0m \u001b[32m━━━━━━━━━━━━━━━━━━━━\u001b[0m\u001b[37m\u001b[0m \u001b[1m3s\u001b[0m 3ms/step - accuracy: 0.9049 - loss: 0.3566 - val_accuracy: 0.9081 - val_loss: 0.3440\n",
            "Epoch 38/50\n",
            "\u001b[1m1001/1001\u001b[0m \u001b[32m━━━━━━━━━━━━━━━━━━━━\u001b[0m\u001b[37m\u001b[0m \u001b[1m3s\u001b[0m 3ms/step - accuracy: 0.9040 - loss: 0.3546 - val_accuracy: 0.9095 - val_loss: 0.3453\n",
            "Epoch 39/50\n",
            "\u001b[1m1001/1001\u001b[0m \u001b[32m━━━━━━━━━━━━━━━━━━━━\u001b[0m\u001b[37m\u001b[0m \u001b[1m3s\u001b[0m 3ms/step - accuracy: 0.9068 - loss: 0.3457 - val_accuracy: 0.9122 - val_loss: 0.3405\n",
            "Epoch 40/50\n",
            "\u001b[1m1001/1001\u001b[0m \u001b[32m━━━━━━━━━━━━━━━━━━━━\u001b[0m\u001b[37m\u001b[0m \u001b[1m3s\u001b[0m 3ms/step - accuracy: 0.9064 - loss: 0.3485 - val_accuracy: 0.9111 - val_loss: 0.3446\n",
            "Epoch 41/50\n",
            "\u001b[1m1001/1001\u001b[0m \u001b[32m━━━━━━━━━━━━━━━━━━━━\u001b[0m\u001b[37m\u001b[0m \u001b[1m5s\u001b[0m 3ms/step - accuracy: 0.9101 - loss: 0.3393 - val_accuracy: 0.9140 - val_loss: 0.3426\n",
            "Epoch 42/50\n",
            "\u001b[1m1001/1001\u001b[0m \u001b[32m━━━━━━━━━━━━━━━━━━━━\u001b[0m\u001b[37m\u001b[0m \u001b[1m3s\u001b[0m 3ms/step - accuracy: 0.9036 - loss: 0.3536 - val_accuracy: 0.9143 - val_loss: 0.3413\n",
            "Epoch 43/50\n",
            "\u001b[1m1001/1001\u001b[0m \u001b[32m━━━━━━━━━━━━━━━━━━━━\u001b[0m\u001b[37m\u001b[0m \u001b[1m3s\u001b[0m 3ms/step - accuracy: 0.9064 - loss: 0.3522 - val_accuracy: 0.9140 - val_loss: 0.3411\n",
            "Epoch 44/50\n",
            "\u001b[1m1001/1001\u001b[0m \u001b[32m━━━━━━━━━━━━━━━━━━━━\u001b[0m\u001b[37m\u001b[0m \u001b[1m3s\u001b[0m 3ms/step - accuracy: 0.9083 - loss: 0.3429 - val_accuracy: 0.9131 - val_loss: 0.3390\n",
            "Epoch 45/50\n",
            "\u001b[1m1001/1001\u001b[0m \u001b[32m━━━━━━━━━━━━━━━━━━━━\u001b[0m\u001b[37m\u001b[0m \u001b[1m3s\u001b[0m 3ms/step - accuracy: 0.9082 - loss: 0.3427 - val_accuracy: 0.9138 - val_loss: 0.3412\n",
            "Epoch 46/50\n",
            "\u001b[1m1001/1001\u001b[0m \u001b[32m━━━━━━━━━━━━━━━━━━━━\u001b[0m\u001b[37m\u001b[0m \u001b[1m3s\u001b[0m 3ms/step - accuracy: 0.9061 - loss: 0.3453 - val_accuracy: 0.9136 - val_loss: 0.3390\n",
            "Epoch 47/50\n",
            "\u001b[1m1001/1001\u001b[0m \u001b[32m━━━━━━━━━━━━━━━━━━━━\u001b[0m\u001b[37m\u001b[0m \u001b[1m3s\u001b[0m 3ms/step - accuracy: 0.9043 - loss: 0.3541 - val_accuracy: 0.9128 - val_loss: 0.3385\n",
            "Epoch 48/50\n",
            "\u001b[1m1001/1001\u001b[0m \u001b[32m━━━━━━━━━━━━━━━━━━━━\u001b[0m\u001b[37m\u001b[0m \u001b[1m3s\u001b[0m 3ms/step - accuracy: 0.9087 - loss: 0.3415 - val_accuracy: 0.9113 - val_loss: 0.3412\n",
            "Epoch 49/50\n",
            "\u001b[1m1001/1001\u001b[0m \u001b[32m━━━━━━━━━━━━━━━━━━━━\u001b[0m\u001b[37m\u001b[0m \u001b[1m3s\u001b[0m 3ms/step - accuracy: 0.9089 - loss: 0.3405 - val_accuracy: 0.9105 - val_loss: 0.3425\n",
            "Epoch 50/50\n",
            "\u001b[1m1001/1001\u001b[0m \u001b[32m━━━━━━━━━━━━━━━━━━━━\u001b[0m\u001b[37m\u001b[0m \u001b[1m3s\u001b[0m 3ms/step - accuracy: 0.9084 - loss: 0.3461 - val_accuracy: 0.9138 - val_loss: 0.3354\n"
          ]
        }
      ]
    },
    {
      "cell_type": "markdown",
      "source": [
        "## 7. Evaluasi\n",
        "- Menghitung akurasi training dan validation  \n",
        "- Menampilkan classification report (precision, recall, F1-score)"
      ],
      "metadata": {
        "id": "zyu7fNx1Lc2J"
      }
    },
    {
      "cell_type": "code",
      "source": [
        "train_acc = model.evaluate(X_train, y_train, verbose=0)[1]\n",
        "val_acc = model.evaluate(X_val, y_val, verbose=0)[1]\n",
        "\n",
        "print(f\"\\nAkurasi Training: {train_acc*100:.2f}%\")\n",
        "print(f\"Akurasi Validation: {val_acc*100:.2f}%\")"
      ],
      "metadata": {
        "colab": {
          "base_uri": "https://localhost:8080/"
        },
        "id": "fYkxBdEVLeCr",
        "outputId": "7d798327-ac36-45a7-cb0d-81e0744c2b59"
      },
      "execution_count": 10,
      "outputs": [
        {
          "output_type": "stream",
          "name": "stdout",
          "text": [
            "\n",
            "Akurasi Training: 92.03%\n",
            "Akurasi Validation: 91.38%\n"
          ]
        }
      ]
    },
    {
      "cell_type": "markdown",
      "source": [
        "## 8. Laporan Klasifikasi\n",
        "### Evaluasi Model\n",
        "\n",
        "Setelah model selesai dilatih, dilakukan proses evaluasi untuk menilai kemampuan model dalam melakukan **klasifikasi** terhadap data validasi.\n",
        "\n",
        "#### Langkah-langkah Evaluasi\n",
        "1. **Prediksi Kelas**\n",
        "   - Model menghasilkan probabilitas untuk setiap kelas melalui `model.predict(X_val)`.\n",
        "   - Fungsi `np.argmax(..., axis=1)` digunakan untuk menentukan kelas dengan probabilitas tertinggi sebagai hasil prediksi (`y_pred`).\n",
        "\n",
        "2. **Menentukan Label Sebenarnya**\n",
        "   - Data label validasi (`y_val`) sebelumnya berbentuk one-hot encoding.  \n",
        "   - Dengan `np.argmax(y_val, axis=1)`, label tersebut dikembalikan ke bentuk numerik (`y_true`) agar dapat dibandingkan dengan hasil prediksi.\n",
        "\n",
        "3. **Menampilkan Laporan Klasifikasi**\n",
        "   - Fungsi `classification_report(y_true, y_pred, target_names=le.classes_)` menampilkan metrik performa model berupa:\n",
        "     - **Precision** → tingkat ketepatan model dalam memprediksi tiap kelas.  \n",
        "     - **Recall** → kemampuan model mendeteksi data sebenarnya dari tiap kelas.  \n",
        "     - **F1-Score** → rata-rata harmonis antara precision dan recall.  \n",
        "     - **Support** → jumlah data pada tiap kelas.\n",
        "\n",
        "###  Kesimpulan\n",
        "Laporan klasifikasi ini memberikan gambaran menyeluruh tentang performa model dalam mengenali kategori pada kolom target **`EngagementLevel`**, sehingga dapat diketahui seberapa baik model melakukan prediksi terhadap perilaku pemain game online."
      ],
      "metadata": {
        "id": "thD84iWQLkA7"
      }
    },
    {
      "cell_type": "code",
      "source": [
        "import numpy as np\n",
        "y_pred = np.argmax(model.predict(X_val), axis=1)\n",
        "y_true = np.argmax(y_val, axis=1)\n",
        "\n",
        "print(\"\\nClassification Report:\")\n",
        "print(classification_report(y_true, y_pred, target_names=le.classes_))"
      ],
      "metadata": {
        "colab": {
          "base_uri": "https://localhost:8080/"
        },
        "id": "ep4qBZoMLnnb",
        "outputId": "68e212e1-609d-42b7-d646-db88ffde09f6"
      },
      "execution_count": 11,
      "outputs": [
        {
          "output_type": "stream",
          "name": "stdout",
          "text": [
            "\u001b[1m251/251\u001b[0m \u001b[32m━━━━━━━━━━━━━━━━━━━━\u001b[0m\u001b[37m\u001b[0m \u001b[1m1s\u001b[0m 2ms/step\n",
            "\n",
            "Classification Report:\n",
            "              precision    recall  f1-score   support\n",
            "\n",
            "        High       0.92      0.88      0.90      2067\n",
            "         Low       0.91      0.88      0.90      2065\n",
            "      Medium       0.91      0.95      0.93      3875\n",
            "\n",
            "    accuracy                           0.91      8007\n",
            "   macro avg       0.92      0.90      0.91      8007\n",
            "weighted avg       0.91      0.91      0.91      8007\n",
            "\n"
          ]
        }
      ]
    }
  ]
}
